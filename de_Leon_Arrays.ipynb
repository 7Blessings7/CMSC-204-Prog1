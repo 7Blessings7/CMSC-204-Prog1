{
  "nbformat": 4,
  "nbformat_minor": 0,
  "metadata": {
    "colab": {
      "provenance": [],
      "include_colab_link": true
    },
    "kernelspec": {
      "name": "python3",
      "display_name": "Python 3"
    },
    "language_info": {
      "name": "python"
    }
  },
  "cells": [
    {
      "cell_type": "markdown",
      "metadata": {
        "id": "view-in-github",
        "colab_type": "text"
      },
      "source": [
        "<a href=\"https://colab.research.google.com/github/7Blessings7/CMSC-204-Prog1/blob/main/de_Leon_Arrays.ipynb\" target=\"_parent\"><img src=\"https://colab.research.google.com/assets/colab-badge.svg\" alt=\"Open In Colab\"/></a>"
      ]
    },
    {
      "cell_type": "code",
      "execution_count": null,
      "metadata": {
        "id": "RMJXeYAno1uZ",
        "colab": {
          "base_uri": "https://localhost:8080/"
        },
        "outputId": "81ac989c-0699-4fff-eba9-c7b0c75c760b"
      },
      "outputs": [
        {
          "output_type": "stream",
          "name": "stdout",
          "text": [
            "['apple', 'banana', 'cherry']\n",
            "apple\n",
            "3\n",
            "<class 'list'>\n",
            "cherry\n",
            "['banana', 'cherry']\n",
            "['apple', 'banana']\n"
          ]
        }
      ],
      "source": [
        "#TEST\n",
        "\n",
        "fruits = [\"apple\", \"banana\", \"cherry\"]\n",
        "\n",
        "print(fruits)\n",
        "print(fruits[0])\n",
        "print(len(fruits))\n",
        "print(type(fruits))\n",
        "print(fruits[-1])\n",
        "print(fruits[1:])\n",
        "print(fruits[:-1])"
      ]
    },
    {
      "cell_type": "code",
      "source": [
        "#CODEBASICS EXERCISE 1\n",
        "expenses = [2200, 2350, 2600, 2130, 2190]\n",
        "\n",
        "#1\n",
        "print(\"1. In Feb, how many dollars you spent extra compare to January?\")\n",
        "print(expenses[1]-expenses[0])\n",
        "#2\n",
        "print(\"2. Find out your total expense in first quarter of the year.\")\n",
        "print(expenses[0]+expenses[1]+expenses[2])\n",
        "#3\n",
        "print(\"3. Find out if you spent exactly 2000 dollars in any month.\")\n",
        "if 2000 in expenses:\n",
        "  print(\"You spent exactly 2000 dollars in a month.\")\n",
        "else:\n",
        "  print(\"You did not spend exactly 2000 dollars in any month.\")\n",
        "#4\n",
        "print(\"4. Add June.\")\n",
        "expenses.append(1980)\n",
        "print(expenses)\n",
        "#5\n",
        "print(\"5. April got a refund of 200$.\")\n",
        "expenses[3] = expenses[3]-200\n",
        "print(expenses)\n",
        "\n"
      ],
      "metadata": {
        "colab": {
          "base_uri": "https://localhost:8080/"
        },
        "id": "tVYkwdL9eJP0",
        "outputId": "aba66c98-c475-4265-d548-913ee8ac6791"
      },
      "execution_count": null,
      "outputs": [
        {
          "output_type": "stream",
          "name": "stdout",
          "text": [
            "1. In Feb, how many dollars you spent extra compare to January?\n",
            "150\n",
            "2. Find out your total expense in first quarter of the year.\n",
            "7150\n",
            "3. Find out if you spent exactly 2000 dollars in any month.\n",
            "You did not spend exactly 2000 dollars in any month.\n",
            "4. Add June.\n",
            "[2200, 2350, 2600, 2130, 2190, 1980]\n",
            "5. April got a refund of 200$.\n",
            "[2200, 2350, 2600, 1930, 2190, 1980]\n"
          ]
        }
      ]
    },
    {
      "cell_type": "code",
      "source": [
        "#CODEBASICS EXERCISE 2\n",
        "hero=['spider man','thor','hulk','iron man','captain america']\n",
        "\n",
        "#1\n",
        "print(\"1. Length of the list.\")\n",
        "print(len(hero))\n",
        "#2\n",
        "print(\"2. Add 'black panther'\")\n",
        "hero.append(\"black panther\")\n",
        "print(hero)\n",
        "#3\n",
        "print(\"3. Add 'black panther' after 'hulk'\")\n",
        "hero.remove(\"black panther\")\n",
        "hero.insert(3, \"black panther\")\n",
        "print(hero)\n",
        "#4\n",
        "print(\"4. Remove thor and hulk from list and replace them with doctor strange.\")\n",
        "hero[1:3]=[\"doctor strange\"]\n",
        "print(hero)\n",
        "#5\n",
        "print(\"5. Sort the heros list in alphabetical order.\")\n",
        "hero.sort()\n",
        "print(hero)"
      ],
      "metadata": {
        "colab": {
          "base_uri": "https://localhost:8080/"
        },
        "id": "pNW1_EMekVeP",
        "outputId": "a1308c69-5847-4d73-cfe8-19be583393cc"
      },
      "execution_count": null,
      "outputs": [
        {
          "output_type": "stream",
          "name": "stdout",
          "text": [
            "1. Length of the list.\n",
            "5\n",
            "2. Add 'black panther'\n",
            "['spider man', 'thor', 'hulk', 'iron man', 'captain america', 'black panther']\n",
            "3. Add 'black panther' after 'hulk'\n",
            "['spider man', 'thor', 'hulk', 'black panther', 'iron man', 'captain america']\n",
            "4. Remove thor and hulk from list and replace them with doctor strange.\n",
            "['spider man', 'doctor strange', 'black panther', 'iron man', 'captain america']\n",
            "5. Sort the heros list in alphabetical order.\n",
            "['black panther', 'captain america', 'doctor strange', 'iron man', 'spider man']\n"
          ]
        }
      ]
    },
    {
      "cell_type": "code",
      "source": [
        "#CODEBASICS EXERCISE 3\n",
        "#Create a list of all odd numbers between 1 and a max number.\n",
        "#Max number is something you need to take from a user using input() function\n",
        "\n",
        "\n",
        "max = int(input(\"Enter max number: \"))\n",
        "\n",
        "odd_list = []\n",
        "i=0\n",
        "odd=1\n",
        "while odd < max:\n",
        "  odd_list.append(odd)\n",
        "  odd +=2\n",
        "  i += 1\n",
        "\n",
        "print(odd_list)"
      ],
      "metadata": {
        "colab": {
          "base_uri": "https://localhost:8080/"
        },
        "id": "jwh-jH4Cs5ff",
        "outputId": "7ba2cd01-6802-4b6f-a0d9-42c9c58c3ac1"
      },
      "execution_count": null,
      "outputs": [
        {
          "output_type": "stream",
          "name": "stdout",
          "text": [
            "Enter max number: 10\n",
            "[1, 3, 5, 7, 9]\n"
          ]
        }
      ]
    },
    {
      "cell_type": "code",
      "source": [
        "#SLIDE 12 EXERCISES\n",
        "#1. Write a procedure for reversing the elements of an array.\n",
        "\n",
        "rainbow = [\"red\", \"orange\", \"yellow\", \"green\", \"blue\", \"indigo\", \"violet\"]\n",
        "print(rainbow)\n",
        "print(\"flag\")\n",
        "i = 0\n",
        "while i < len(rainbow)-1:\n",
        "  rainbow.insert(i,rainbow[-1])\n",
        "  #print(rainbow)\n",
        "  rainbow.pop(len(rainbow)-1)\n",
        "  #print(rainbow)\n",
        "  i += 1\n",
        "\n",
        "print(rainbow)\n"
      ],
      "metadata": {
        "id": "WNR1lNigvcWc",
        "colab": {
          "base_uri": "https://localhost:8080/"
        },
        "outputId": "638fdd5b-f999-49e0-c3b0-b32f53859a40"
      },
      "execution_count": null,
      "outputs": [
        {
          "output_type": "stream",
          "name": "stdout",
          "text": [
            "['red', 'orange', 'yellow', 'green', 'blue', 'indigo', 'violet']\n",
            "flag\n",
            "['violet', 'indigo', 'blue', 'green', 'yellow', 'orange', 'red']\n"
          ]
        }
      ]
    },
    {
      "cell_type": "code",
      "source": [
        "#SLIDE 12 EXERCISES\n",
        "#2. Write a procedure for merging two sorted arrays into one.\n",
        "\n",
        "rainbow = [\"red\", \"orange\", \"yellow\", \"green\", \"blue\", \"indigo\", \"violet\"]\n",
        "fruits = [\"apple\", \"banana\", \"cherry\"]\n",
        "\n",
        "rainbow.extend(fruits)\n",
        "rainbow.sort()\n",
        "\n",
        "print(rainbow)"
      ],
      "metadata": {
        "colab": {
          "base_uri": "https://localhost:8080/"
        },
        "id": "sNLiMfuw0Hfv",
        "outputId": "05757a03-369f-4e14-9974-d8e3411a7db2"
      },
      "execution_count": null,
      "outputs": [
        {
          "output_type": "stream",
          "name": "stdout",
          "text": [
            "['apple', 'banana', 'blue', 'cherry', 'green', 'indigo', 'orange', 'red', 'violet', 'yellow']\n"
          ]
        }
      ]
    },
    {
      "cell_type": "code",
      "source": [
        "#SLIDE 12 EXERCISES\n",
        "#3. Formulate an algorithm for inserting a new element x into a sorted array A of size n.\n",
        "\n",
        "odd = [1, 3, 5, 7, 9, 11, 13, 15, 17, 19]\n",
        "\n",
        "x = int(input(\"Enter integer:\"))\n",
        "\n",
        "i=0\n",
        "while i < len(odd)-1:\n",
        "  if x <= odd[0]:\n",
        "    odd.insert(0, x)\n",
        "    break\n",
        "  elif x > odd[len(odd)-1]:\n",
        "    odd.insert(len(odd),x)\n",
        "    break\n",
        "  elif x > odd[i] and x <= odd[i+1]:\n",
        "    odd.insert(i+1,x)\n",
        "    break\n",
        "  else:\n",
        "    i += 1\n",
        "\n",
        "print(odd)    "
      ],
      "metadata": {
        "colab": {
          "base_uri": "https://localhost:8080/"
        },
        "id": "4wrpHz3Q1U-n",
        "outputId": "88b5721c-2183-403a-e7bf-44fd4a29bcab"
      },
      "execution_count": null,
      "outputs": [
        {
          "output_type": "stream",
          "name": "stdout",
          "text": [
            "Enter integer:14\n",
            "[1, 3, 5, 7, 9, 11, 13, 14, 15, 17, 19]\n"
          ]
        }
      ]
    },
    {
      "cell_type": "code",
      "source": [
        "#SLIDE 12 EXERCISES\n",
        "#4. Write a procedure for finding the minimum in an array and deleting it from the array.\n",
        "\n",
        "random = [33, 17, 18, 21, 5, 47, 40, 44, 4, 6]\n",
        "i=0\n",
        "min=random[0]\n",
        "while i <= len(random)-1:\n",
        "  if random[i] < min:\n",
        "    min = random[i]\n",
        "  i += 1\n",
        "\n",
        "print(\"Minimum: \", min)\n",
        "random.remove(min)\n",
        "print(random)"
      ],
      "metadata": {
        "colab": {
          "base_uri": "https://localhost:8080/"
        },
        "id": "pXpgr2w3BqWq",
        "outputId": "21d74b9e-d08d-4fcb-d390-7d8efbf01d8a"
      },
      "execution_count": null,
      "outputs": [
        {
          "output_type": "stream",
          "name": "stdout",
          "text": [
            "Minimum:  4\n",
            "[33, 17, 18, 21, 5, 47, 40, 44, 6]\n"
          ]
        }
      ]
    }
  ]
}
{
  "nbformat": 4,
  "nbformat_minor": 0,
  "metadata": {
    "colab": {
      "provenance": [],
      "include_colab_link": true
    },
    "kernelspec": {
      "name": "python3",
      "display_name": "Python 3"
    },
    "language_info": {
      "name": "python"
    }
  },
  "cells": [
    {
      "cell_type": "markdown",
      "metadata": {
        "id": "view-in-github",
        "colab_type": "text"
      },
      "source": [
        "<a href=\"https://colab.research.google.com/github/7Blessings7/CMSC-204-Prog1/blob/main/MarasiganMarites_Arrays.ipynb\" target=\"_parent\"><img src=\"https://colab.research.google.com/assets/colab-badge.svg\" alt=\"Open In Colab\"/></a>"
      ]
    },
    {
      "cell_type": "code",
      "execution_count": null,
      "metadata": {
        "colab": {
          "base_uri": "https://localhost:8080/"
        },
        "id": "r8zaDmokf48X",
        "outputId": "bfd95f91-bbfc-45e1-a1e1-3e1b72a05a71"
      },
      "outputs": [
        {
          "output_type": "stream",
          "name": "stdout",
          "text": [
            "Price on day 3:  320\n",
            "Price was 301 on :  3\n",
            "298\n",
            "305\n",
            "320\n",
            "301\n",
            "292\n",
            "New price 284 inserted:  [298, 284, 305, 320, 301, 292]\n",
            "Price 298 removed:  [284, 305, 320, 301, 292]\n"
          ]
        }
      ],
      "source": [
        "#A. Practice: As Presented in Video\n",
        "\n",
        "#1. What was the price on day 3?\n",
        "stock_prices = [298,305,320,301,292]\n",
        "print (\"Price on day 3: \", stock_prices[2])\n",
        "\n",
        "#2. On what day price was 301?\n",
        "for i in range(len(stock_prices)):\n",
        "  if stock_prices[i]==301:\n",
        "    print (\"Price was 301 on : \", i)\n",
        "\n",
        "#3. Print all prices.\n",
        "for price in stock_prices:\n",
        "  print (price)\n",
        "\n",
        "#4. Insert new price 284 at index 1.\n",
        "stock_prices.insert(1,284)\n",
        "print (\"New price 284 inserted: \", stock_prices)\n",
        "\n",
        "#5. Delete element at index 1.\n",
        "stock_prices.remove(298)\n",
        "print (\"Price 298 removed: \", stock_prices)"
      ]
    },
    {
      "cell_type": "code",
      "source": [
        "#B1. Exercises\n",
        "# Monthly Expenses: \n",
        "# January - 2200; February - 2350; March - 2600; April - 2130; May - 2190\n",
        "\n",
        "# Create a list to store these monthly expenses\n",
        "mon_exp = [2200,2350,2600,2130,2190]\n",
        "\n",
        "#1. In February, how many dollars you spent extra compare to January?\n",
        "print (\"More dollars spent in February than January: \", mon_exp[1]-mon_exp[0])\n",
        "\n",
        "#2. Find out your total expense in first quarter (first three months) of the year.\n",
        "print (\"Total expenses in Q1: \", mon_exp[0]+mon_exp[1]+mon_exp[2])\n",
        "\n",
        "#3. Find out if you spent exactly 2000 dollars in any month.\n",
        "print (\"Did I spend 2000 in any month? \", 2000 in mon_exp)\n",
        "\n",
        "#4. June month just finished and your expense is 1980 dollar. Add this item to our monthly expense list.\n",
        "mon_exp.insert(5,1980)\n",
        "print (\"June expense added: \", mon_exp)\n",
        "\n",
        "#5. You returned an item that you bought in April and got a refund of 200. Make a correction to your monthly expense list based on this.\n",
        "mon_exp.remove(2130)\n",
        "mon_exp.insert(3,1930)\n",
        "print (\"April expense corrected: \", mon_exp)"
      ],
      "metadata": {
        "colab": {
          "base_uri": "https://localhost:8080/"
        },
        "id": "Cqnzb0ZyTQTK",
        "outputId": "cb71c1e9-5ca4-4c5f-f934-97d0cfbad42c"
      },
      "execution_count": null,
      "outputs": [
        {
          "output_type": "stream",
          "name": "stdout",
          "text": [
            "More dollars spent in February than January:  150\n",
            "Total expenses in Q1:  7150\n",
            "Did I spend 2000 in any month?  False\n",
            "June expense added:  [2200, 2350, 2600, 2130, 2190, 1980]\n",
            "April expense corrected:  [2200, 2350, 2600, 1930, 2190, 1980]\n"
          ]
        }
      ]
    },
    {
      "cell_type": "code",
      "source": [
        "#B2.\n",
        "# Marvel superheroes\n",
        "heroes = ['spiderman','thor','hulk','ironman','captain america']\n",
        "\n",
        "#1. Length of the list\n",
        "print (\"Length of the list: \", len(heroes))\n",
        "\n",
        "#2. Add 'black panther' at the end of this list.\n",
        "heroes.append('black panther')\n",
        "print (\"Added black panther: \", heroes)\n",
        "\n",
        "#3. You realize that you need to add 'black panther' after 'hulk', so remove it from the list first and then add it after 'hulk'.\n",
        "heroes.remove('black panther')\n",
        "heroes.insert(3,'black panther')\n",
        "print (\"Put black panther after hulk: \", heroes)\n",
        "\n",
        "#4. Now you don't like thor and hulk because they get angry easily :)\n",
        "# So you want to remove thor and hulk from list and replace them with doctor strange (because he is cool).\n",
        "# Do that with one line of code.\n",
        "heroes[1:3]=['doctor strange']\n",
        "print (\"Replaced thor and hulk with doctor strange: \", heroes)\n",
        "\n",
        "#5. Sort the heros list in alphabetical order (Hint. Use dir() functions to list down all functions available in list)\n",
        "heroes.sort()\n",
        "print (\"Heroes in alphabetical order: \", heroes)\n"
      ],
      "metadata": {
        "colab": {
          "base_uri": "https://localhost:8080/"
        },
        "id": "caMZj3R82kgh",
        "outputId": "80298e4b-eff7-4ddb-9b85-13d3504eb98d"
      },
      "execution_count": null,
      "outputs": [
        {
          "output_type": "stream",
          "name": "stdout",
          "text": [
            "Length of the list:  5\n",
            "Added black panther:  ['spiderman', 'thor', 'hulk', 'ironman', 'captain america', 'black panther']\n",
            "Put black panther after hulk:  ['spiderman', 'thor', 'hulk', 'black panther', 'ironman', 'captain america']\n",
            "Replaced thor and hulk with doctor strange:  ['spiderman', 'doctor strange', 'black panther', 'ironman', 'captain america']\n",
            "Heroes in alphabetical order:  ['black panther', 'captain america', 'doctor strange', 'ironman', 'spiderman']\n"
          ]
        }
      ]
    },
    {
      "cell_type": "code",
      "source": [
        "#B3.\n",
        "# Create a list of all odd numbers between 1 and a max number. Max number is something you need to take from a user using input() function.\n",
        "max_num = int(input(\"Enter maximum number: \"))\n",
        "\n",
        "odd_num = []\n",
        "\n",
        "for i in range(1, max_num):\n",
        "    if i % 2 == 1:\n",
        "        odd_num.append(i)\n",
        "\n",
        "print(\"Odd numbers: \", odd_num)"
      ],
      "metadata": {
        "colab": {
          "base_uri": "https://localhost:8080/"
        },
        "id": "CU_N3Ivz7YPr",
        "outputId": "28dc7615-ef5b-4983-80d4-ef5d60b25d8a"
      },
      "execution_count": null,
      "outputs": [
        {
          "output_type": "stream",
          "name": "stdout",
          "text": [
            "Enter maximum number: 21\n",
            "Odd numbers:  [1, 3, 5, 7, 9, 11, 13, 15, 17, 19]\n"
          ]
        }
      ]
    }
  ]
}
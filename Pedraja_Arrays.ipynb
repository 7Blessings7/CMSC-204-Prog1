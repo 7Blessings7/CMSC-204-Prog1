{
  "nbformat": 4,
  "nbformat_minor": 0,
  "metadata": {
    "colab": {
      "provenance": [],
      "include_colab_link": true
    },
    "kernelspec": {
      "name": "python3",
      "display_name": "Python 3"
    },
    "language_info": {
      "name": "python"
    }
  },
  "cells": [
    {
      "cell_type": "markdown",
      "metadata": {
        "id": "view-in-github",
        "colab_type": "text"
      },
      "source": [
        "<a href=\"https://colab.research.google.com/github/7Blessings7/CMSC-204-Prog1/blob/main/Pedraja_Arrays.ipynb\" target=\"_parent\"><img src=\"https://colab.research.google.com/assets/colab-badge.svg\" alt=\"Open In Colab\"/></a>"
      ]
    },
    {
      "cell_type": "markdown",
      "source": [
        "Codebasics Exercises"
      ],
      "metadata": {
        "id": "ZqoWz523N1c-"
      }
    },
    {
      "cell_type": "code",
      "source": [
        "from array import *\n",
        "expenses = [2200,2350,2600,2130,2190]\n",
        "print(\"I spent\", expenses[1]-expenses[0], \"dollars more in February than in January\")\n",
        "\n",
        "if 2000 in expenses == True:\n",
        "  print(\"I spent exactly 2000 dollars in any month\")\n",
        "else:\n",
        "  print(\"I did not spend exactly 2000 dollars in any month\")\n",
        "\n",
        "print(\"My total expnses from January to March is\", expenses[0]+expenses[1]+expenses[2], \"dollars\")\n",
        "print(\"\\t\")\n",
        "expenses.insert(5,1980)\n",
        "print(\"List of expenses by end of June is\")\n",
        "for x in expenses:\n",
        "  print(x)\n",
        "\n",
        "print(\"\\t\")\n",
        "expenses[3] = expenses[3]-200\n",
        "print(\"List of expenses after refund of 200 dollars in April is:\")\n",
        "for x in expenses:\n",
        "  print(x)"
      ],
      "metadata": {
        "colab": {
          "base_uri": "https://localhost:8080/"
        },
        "id": "ivaZ51JoBldu",
        "outputId": "b7ed1550-0358-474c-8e54-5bc0136557ed"
      },
      "execution_count": null,
      "outputs": [
        {
          "output_type": "stream",
          "name": "stdout",
          "text": [
            "I spent 150 dollars more in February than in January\n",
            "I did not spend exactly 2000 dollars in any month\n",
            "My total expnses from January to March is 7150 dollars\n",
            "\t\n",
            "List of expenses by end of June is\n",
            "2200\n",
            "2350\n",
            "2600\n",
            "2130\n",
            "2190\n",
            "1980\n",
            "\t\n",
            "List of expenses after refund of 200 dollars in April is:\n",
            "2200\n",
            "2350\n",
            "2600\n",
            "1930\n",
            "2190\n",
            "1980\n"
          ]
        }
      ]
    },
    {
      "cell_type": "code",
      "source": [
        "from array import *\n",
        "heroes = ['spider man','thor','hulk','iron man','captain america']\n",
        "print(len(heroes))\n",
        "\n",
        "heroes.append('black panther')\n",
        "print(heroes)\n",
        "\n",
        "heroes.remove('black panther')\n",
        "print(heroes)\n",
        "\n",
        "heroes.insert(3,'black panther')\n",
        "print(heroes)\n",
        "\n",
        "heroes[2] = 'doctor strange'\n",
        "print(heroes)\n",
        "\n",
        "heroes[1:3]= ['doctor strange']\n",
        "print(heroes)\n",
        "\n",
        "heroes.sort()\n",
        "print(heroes)"
      ],
      "metadata": {
        "colab": {
          "base_uri": "https://localhost:8080/"
        },
        "id": "aQX-yyAEJbtA",
        "outputId": "709b50f0-cbea-4bb6-f3e4-b9958d78103e"
      },
      "execution_count": null,
      "outputs": [
        {
          "output_type": "stream",
          "name": "stdout",
          "text": [
            "5\n",
            "['spider man', 'thor', 'hulk', 'iron man', 'captain america', 'black panther']\n",
            "['spider man', 'thor', 'hulk', 'iron man', 'captain america']\n",
            "['spider man', 'thor', 'hulk', 'black panther', 'iron man', 'captain america']\n",
            "['spider man', 'thor', 'doctor strange', 'black panther', 'iron man', 'captain america']\n",
            "['spider man', 'doctor strange', 'black panther', 'iron man', 'captain america']\n",
            "['black panther', 'captain america', 'doctor strange', 'iron man', 'spider man']\n"
          ]
        }
      ]
    },
    {
      "cell_type": "markdown",
      "source": [
        "\"Now you try it!\" Exercises"
      ],
      "metadata": {
        "id": "wWJ4pjZmBa_Y"
      }
    },
    {
      "cell_type": "markdown",
      "source": [
        "1. Write a procedure for reversing the elements of an array."
      ],
      "metadata": {
        "id": "MmtVu9uyBUrT"
      }
    },
    {
      "cell_type": "code",
      "source": [
        "from array import *\n",
        "sample = [1,20,19,45,16,3,8]\n",
        "\n",
        "sample.reverse()\n",
        "print(sample)"
      ],
      "metadata": {
        "colab": {
          "base_uri": "https://localhost:8080/"
        },
        "id": "_l0ZLcgJlVCd",
        "outputId": "28c24e4a-815a-4f0e-a38c-5cf6dd3da386"
      },
      "execution_count": null,
      "outputs": [
        {
          "output_type": "stream",
          "name": "stdout",
          "text": [
            "[8, 3, 16, 45, 19, 20, 1]\n"
          ]
        }
      ]
    },
    {
      "cell_type": "markdown",
      "source": [
        "2. Write a procedure for merging two sorted arrays into one"
      ],
      "metadata": {
        "id": "hBytxk-HBj9m"
      }
    },
    {
      "cell_type": "code",
      "source": [
        "from array import *\n",
        "list1 = [1,20,19,45,16,3,8]\n",
        "list2 = [12,43,62,89,13]\n",
        "\n",
        "list1.sort()\n",
        "list2.sort\n",
        "\n",
        "print(list1+list2)"
      ],
      "metadata": {
        "colab": {
          "base_uri": "https://localhost:8080/"
        },
        "id": "alSr8uAvmSKH",
        "outputId": "3191e02f-c364-42a1-c16f-007ebe54efe1"
      },
      "execution_count": null,
      "outputs": [
        {
          "output_type": "stream",
          "name": "stdout",
          "text": [
            "[1, 3, 8, 16, 19, 20, 45, 12, 43, 62, 89, 13]\n"
          ]
        }
      ]
    },
    {
      "cell_type": "markdown",
      "source": [
        "3. Formulate an algorithm for inserting a new element x into a sorted array A of size n."
      ],
      "metadata": {
        "id": "o0xR0itUBs5T"
      }
    },
    {
      "cell_type": "code",
      "source": [
        "from array import *\n",
        "list1 = [1,20,19,45,16,3,8]\n",
        "\n",
        "list1.sort()\n",
        "print(list1)\n",
        "\n",
        "list1.insert(1,'butterfly')\n",
        "(print(list1))"
      ],
      "metadata": {
        "colab": {
          "base_uri": "https://localhost:8080/"
        },
        "id": "RsitWc6mmrr7",
        "outputId": "94ec17db-ea6d-4fdc-bb3b-5db07cea0d2a"
      },
      "execution_count": null,
      "outputs": [
        {
          "output_type": "stream",
          "name": "stdout",
          "text": [
            "[1, 3, 8, 16, 19, 20, 45]\n",
            "[1, 'butterfly', 3, 8, 16, 19, 20, 45]\n"
          ]
        }
      ]
    },
    {
      "cell_type": "markdown",
      "source": [
        "4. Write a procedure for finding the minimum in an array and deleting it from the array."
      ],
      "metadata": {
        "id": "7OJzsAHSB5RR"
      }
    },
    {
      "cell_type": "code",
      "source": [
        "from array import *\n",
        "list1 = [1,20,19,45,16,3,8]\n",
        "\n",
        "list1.remove(min(list1))\n",
        "\n",
        "print(list1)"
      ],
      "metadata": {
        "colab": {
          "base_uri": "https://localhost:8080/"
        },
        "id": "SWpLJuLIoOph",
        "outputId": "bb2dc2aa-a9f9-4b36-b5c5-7d1cf8c77912"
      },
      "execution_count": null,
      "outputs": [
        {
          "output_type": "stream",
          "name": "stdout",
          "text": [
            "[20, 19, 45, 16, 3, 8]\n"
          ]
        }
      ]
    }
  ]
}
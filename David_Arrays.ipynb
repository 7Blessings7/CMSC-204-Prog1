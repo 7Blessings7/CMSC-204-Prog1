{
  "nbformat": 4,
  "nbformat_minor": 0,
  "metadata": {
    "colab": {
      "provenance": [],
      "include_colab_link": true
    },
    "kernelspec": {
      "name": "python3",
      "display_name": "Python 3"
    },
    "language_info": {
      "name": "python"
    }
  },
  "cells": [
    {
      "cell_type": "markdown",
      "metadata": {
        "id": "view-in-github",
        "colab_type": "text"
      },
      "source": [
        "<a href=\"https://colab.research.google.com/github/7Blessings7/CMSC-204-Prog1/blob/main/David_Arrays.ipynb\" target=\"_parent\"><img src=\"https://colab.research.google.com/assets/colab-badge.svg\" alt=\"Open In Colab\"/></a>"
      ]
    },
    {
      "cell_type": "code",
      "execution_count": null,
      "metadata": {
        "id": "bk7hgE8MPgxk"
      },
      "outputs": [],
      "source": [
        "stock_prices = [298,305,320,301,292]"
      ]
    },
    {
      "cell_type": "code",
      "source": [
        "stock_prices[0]"
      ],
      "metadata": {
        "colab": {
          "base_uri": "https://localhost:8080/"
        },
        "id": "sina5h3oPu7V",
        "outputId": "c024014a-776b-4e77-96f4-aa4d917fd063"
      },
      "execution_count": null,
      "outputs": [
        {
          "output_type": "execute_result",
          "data": {
            "text/plain": [
              "298"
            ]
          },
          "metadata": {},
          "execution_count": 2
        }
      ]
    },
    {
      "cell_type": "code",
      "source": [
        "stock_prices[2]"
      ],
      "metadata": {
        "colab": {
          "base_uri": "https://localhost:8080/"
        },
        "id": "s9d20d6GPxnh",
        "outputId": "2865bedf-7a09-4552-d632-723633446ebf"
      },
      "execution_count": null,
      "outputs": [
        {
          "output_type": "execute_result",
          "data": {
            "text/plain": [
              "320"
            ]
          },
          "metadata": {},
          "execution_count": 3
        }
      ]
    },
    {
      "cell_type": "code",
      "source": [
        "stock_prices.insert(1,284)\n",
        "stock_prices"
      ],
      "metadata": {
        "colab": {
          "base_uri": "https://localhost:8080/"
        },
        "id": "BiyrG7j-P0zd",
        "outputId": "93c73949-ae9b-4010-94ee-789db839e744"
      },
      "execution_count": null,
      "outputs": [
        {
          "output_type": "execute_result",
          "data": {
            "text/plain": [
              "[298, 284, 284, 305, 320, 301, 292]"
            ]
          },
          "metadata": {},
          "execution_count": 6
        }
      ]
    },
    {
      "cell_type": "code",
      "source": [
        "stock_prices.remove(284)\n",
        "stock_prices\n",
        "#static array - fixed ung number of list sa array. wala ito sa python\n",
        "#dynamic array - pde kahit ilan iadd. ganito sa python."
      ],
      "metadata": {
        "colab": {
          "base_uri": "https://localhost:8080/"
        },
        "id": "EwwhcVbNRNfZ",
        "outputId": "f3d079ea-b07e-4b68-fbbc-dee7a5c4384e"
      },
      "execution_count": null,
      "outputs": [
        {
          "output_type": "execute_result",
          "data": {
            "text/plain": [
              "[298, 305, 320, 301, 292]"
            ]
          },
          "metadata": {},
          "execution_count": 11
        }
      ]
    },
    {
      "cell_type": "code",
      "source": [
        "stock_prices.append(284)\n",
        "stock_prices"
      ],
      "metadata": {
        "colab": {
          "base_uri": "https://localhost:8080/"
        },
        "id": "-kv-My3DSmVq",
        "outputId": "5e6786f0-d690-4f1d-fcec-a191847b7265"
      },
      "execution_count": null,
      "outputs": [
        {
          "output_type": "execute_result",
          "data": {
            "text/plain": [
              "[298, 305, 320, 301, 292, 284]"
            ]
          },
          "metadata": {},
          "execution_count": 13
        }
      ]
    },
    {
      "cell_type": "markdown",
      "source": [
        "**EXERCISE**"
      ],
      "metadata": {
        "id": "_BTPhdjTUD95"
      }
    },
    {
      "cell_type": "code",
      "source": [
        "#Problem#1:\n",
        "#Creating a list\n",
        "expenses = [2200, 2350, 2600, 2130, 2190]"
      ],
      "metadata": {
        "id": "wASt-ww2UOyQ"
      },
      "execution_count": null,
      "outputs": []
    },
    {
      "cell_type": "code",
      "source": [
        "#Calculating extra dollars spent on February:\n",
        "expenses[1] - expenses[0]"
      ],
      "metadata": {
        "colab": {
          "base_uri": "https://localhost:8080/"
        },
        "id": "zUDAcjEiUfdL",
        "outputId": "17f30417-c54d-46af-f6d5-577d6275be87"
      },
      "execution_count": null,
      "outputs": [
        {
          "output_type": "execute_result",
          "data": {
            "text/plain": [
              "150"
            ]
          },
          "metadata": {},
          "execution_count": 15
        }
      ]
    },
    {
      "cell_type": "code",
      "source": [
        "#Calculating the total expenses in first quarter:\n",
        "expenses[0] + expenses[1] + expenses[2]"
      ],
      "metadata": {
        "colab": {
          "base_uri": "https://localhost:8080/"
        },
        "id": "P3hgMthnUpi7",
        "outputId": "b59aba02-5e5b-408a-a1e9-c189fe84132f"
      },
      "execution_count": null,
      "outputs": [
        {
          "output_type": "execute_result",
          "data": {
            "text/plain": [
              "7150"
            ]
          },
          "metadata": {},
          "execution_count": 16
        }
      ]
    },
    {
      "cell_type": "code",
      "source": [
        "#Checking if you spend exactly 2000 dollars in any month\n",
        "i = 0\n",
        "for x in expenses:\n",
        "  if x == 2000:\n",
        "    print(i)\n",
        "  elif i == 4:\n",
        "    print(\"No month had spent exactly 2000 dollars.\")\n",
        "  i += 1"
      ],
      "metadata": {
        "colab": {
          "base_uri": "https://localhost:8080/"
        },
        "id": "_eviobLIU3XK",
        "outputId": "c694b971-a01d-471e-ad2b-9cb13f851fb1"
      },
      "execution_count": null,
      "outputs": [
        {
          "output_type": "stream",
          "name": "stdout",
          "text": [
            "No month had spent exactly 2000 dollars.\n"
          ]
        }
      ]
    },
    {
      "cell_type": "code",
      "source": [
        "#adding expenses on june\n",
        "expenses.append(1980)"
      ],
      "metadata": {
        "id": "tlo3_oN6X8oI"
      },
      "execution_count": null,
      "outputs": []
    },
    {
      "cell_type": "code",
      "source": [
        "expenses"
      ],
      "metadata": {
        "colab": {
          "base_uri": "https://localhost:8080/"
        },
        "id": "-x-EGpX7YCRS",
        "outputId": "561a7270-1536-45bd-8a07-6c4b04be7389"
      },
      "execution_count": null,
      "outputs": [
        {
          "output_type": "execute_result",
          "data": {
            "text/plain": [
              "[2200, 2350, 2600, 2130, 2190, 1980]"
            ]
          },
          "metadata": {},
          "execution_count": 33
        }
      ]
    },
    {
      "cell_type": "code",
      "source": [
        "#Calculating expense in April after returning $200\n",
        "expenses[3] -= 200\n",
        "expenses"
      ],
      "metadata": {
        "colab": {
          "base_uri": "https://localhost:8080/"
        },
        "id": "yMRoyQnJYDSn",
        "outputId": "d1494b0e-7f42-4369-a30c-bb48236403fb"
      },
      "execution_count": null,
      "outputs": [
        {
          "output_type": "execute_result",
          "data": {
            "text/plain": [
              "[2200, 2350, 2600, 1930, 2190, 1980]"
            ]
          },
          "metadata": {},
          "execution_count": 34
        }
      ]
    },
    {
      "cell_type": "code",
      "source": [
        "#Problem 2:\n",
        "heros=['spider man','thor','hulk','iron man','captain america']"
      ],
      "metadata": {
        "id": "9tuGGfFaYwsj"
      },
      "execution_count": null,
      "outputs": []
    },
    {
      "cell_type": "code",
      "source": [
        "#Finding the length of heros:\n",
        "len(heros)"
      ],
      "metadata": {
        "colab": {
          "base_uri": "https://localhost:8080/"
        },
        "id": "2RTacqM4Y46M",
        "outputId": "32a62b4b-bfa0-4064-803f-3e5410b1bcec"
      },
      "execution_count": null,
      "outputs": [
        {
          "output_type": "execute_result",
          "data": {
            "text/plain": [
              "5"
            ]
          },
          "metadata": {},
          "execution_count": 38
        }
      ]
    },
    {
      "cell_type": "code",
      "source": [
        "#inserting black panther in list:\n",
        "heros.append('black panther')\n",
        "heros"
      ],
      "metadata": {
        "colab": {
          "base_uri": "https://localhost:8080/"
        },
        "id": "RnCTdayEZCd6",
        "outputId": "aeddfc31-458e-434f-8dff-1ee60e6dd263"
      },
      "execution_count": null,
      "outputs": [
        {
          "output_type": "execute_result",
          "data": {
            "text/plain": [
              "['spider man', 'thor', 'hulk', 'iron man', 'captain america', 'black panther']"
            ]
          },
          "metadata": {},
          "execution_count": 39
        }
      ]
    },
    {
      "cell_type": "code",
      "source": [
        "#inserting black panther after hulk:\n",
        "heros.remove('black panther')\n",
        "heros.insert(2,'black panther')\n",
        "heros"
      ],
      "metadata": {
        "colab": {
          "base_uri": "https://localhost:8080/"
        },
        "id": "qgR1KsSoa_nA",
        "outputId": "cd1b299b-d083-47bb-d232-f18cef5d9500"
      },
      "execution_count": null,
      "outputs": [
        {
          "output_type": "execute_result",
          "data": {
            "text/plain": [
              "['spider man', 'thor', 'black panther', 'hulk', 'iron man', 'captain america']"
            ]
          },
          "metadata": {},
          "execution_count": 42
        }
      ]
    },
    {
      "cell_type": "code",
      "source": [
        "#removing thor and hulk and adding doctor strange\n",
        "heros.remove('thor')\n",
        "heros.remove('hulk')\n",
        "heros\n",
        "#other solution: heros[1:3]=['doctor strange']"
      ],
      "metadata": {
        "colab": {
          "base_uri": "https://localhost:8080/"
        },
        "id": "fRrzu2E0bLeT",
        "outputId": "511b2399-0f35-4f7f-8b5f-4c1dd2d96fb7"
      },
      "execution_count": null,
      "outputs": [
        {
          "output_type": "execute_result",
          "data": {
            "text/plain": [
              "['spider man', 'black panther', 'iron man', 'captain america']"
            ]
          },
          "metadata": {},
          "execution_count": 50
        }
      ]
    },
    {
      "cell_type": "code",
      "source": [
        "#adding doctor strange\n",
        "heros.append('doctor strange')\n",
        "heros"
      ],
      "metadata": {
        "colab": {
          "base_uri": "https://localhost:8080/"
        },
        "id": "ZvqCvH20eCKb",
        "outputId": "991f0661-bfaa-4b00-e4ab-b76feee71b78"
      },
      "execution_count": null,
      "outputs": [
        {
          "output_type": "execute_result",
          "data": {
            "text/plain": [
              "['spider man',\n",
              " 'black panther',\n",
              " 'iron man',\n",
              " 'captain america',\n",
              " 'doctor strange']"
            ]
          },
          "metadata": {},
          "execution_count": 51
        }
      ]
    },
    {
      "cell_type": "code",
      "source": [
        "#sorting heros in alphabetical order:\n",
        "heros.sort()\n",
        "heros"
      ],
      "metadata": {
        "colab": {
          "base_uri": "https://localhost:8080/"
        },
        "id": "Laiqr9LSeKWP",
        "outputId": "5e337b1f-caae-46f9-8297-5988ec469ea7"
      },
      "execution_count": null,
      "outputs": [
        {
          "output_type": "execute_result",
          "data": {
            "text/plain": [
              "['black panther',\n",
              " 'captain america',\n",
              " 'doctor strange',\n",
              " 'iron man',\n",
              " 'spider man']"
            ]
          },
          "metadata": {},
          "execution_count": 52
        }
      ]
    },
    {
      "cell_type": "code",
      "source": [
        "#Problem#3\n",
        "#input max value\n",
        "max = int(input(\"Please pick an odd number except negative number and 1:\"))\n",
        "odd = [] #start as empty\n",
        "for i in range(1,max+1,2):\n",
        "    odd.append(i)\n",
        "\n",
        "print(odd)"
      ],
      "metadata": {
        "colab": {
          "base_uri": "https://localhost:8080/"
        },
        "id": "czeCSkAxemrA",
        "outputId": "ff2173c6-1060-4189-eb3e-593a33756213"
      },
      "execution_count": null,
      "outputs": [
        {
          "output_type": "stream",
          "name": "stdout",
          "text": [
            "Please pick an odd number except negative number and 1:5\n",
            "[1, 3, 5]\n"
          ]
        }
      ]
    },
    {
      "cell_type": "code",
      "source": [
        "#Reversing a value in python\n",
        "lis = [1,2,3]\n",
        "lis2 = []\n",
        "\n",
        "for value in lis:\n",
        "  lis2 = [value] + lis2 #always add the value on the first part.\n",
        "\n",
        "print(lis)\n",
        "print(lis2)\n",
        "\n",
        "#other technique: use reverse function"
      ],
      "metadata": {
        "colab": {
          "base_uri": "https://localhost:8080/"
        },
        "id": "Mp9USoNbjOp2",
        "outputId": "255c3f14-03e5-4370-ea2f-ecd80d5222a1"
      },
      "execution_count": null,
      "outputs": [
        {
          "output_type": "stream",
          "name": "stdout",
          "text": [
            "[1, 2, 3]\n",
            "[3, 2, 1]\n"
          ]
        }
      ]
    },
    {
      "cell_type": "code",
      "source": [
        "#merging two tables.\n",
        "lis = [5,6,8,2,9,1]\n",
        "lis2 = [3,1,5,11,43,2]\n",
        "lis.sort()\n",
        "lis2.sort()\n",
        "lis + lis2"
      ],
      "metadata": {
        "colab": {
          "base_uri": "https://localhost:8080/"
        },
        "id": "oPyMOiGqmEP7",
        "outputId": "9938c041-c320-443a-d9d7-ae92c91abc67"
      },
      "execution_count": null,
      "outputs": [
        {
          "output_type": "execute_result",
          "data": {
            "text/plain": [
              "[1, 2, 5, 6, 8, 9, 1, 2, 3, 5, 11, 43]"
            ]
          },
          "metadata": {},
          "execution_count": 65
        }
      ]
    },
    {
      "cell_type": "code",
      "source": [
        "#insert new element x\n",
        "A = [2,3,4,5,6]\n",
        "x = 7\n",
        "A.append(x)\n",
        "A\n"
      ],
      "metadata": {
        "colab": {
          "base_uri": "https://localhost:8080/"
        },
        "id": "4MWR8gNlny9_",
        "outputId": "a3ca0547-dcf1-4827-e211-55499b0fdcbc"
      },
      "execution_count": null,
      "outputs": [
        {
          "output_type": "execute_result",
          "data": {
            "text/plain": [
              "[2, 3, 4, 5, 6, 7]"
            ]
          },
          "metadata": {},
          "execution_count": 66
        }
      ]
    },
    {
      "cell_type": "code",
      "source": [
        "A.insert(0,1)\n",
        "A"
      ],
      "metadata": {
        "colab": {
          "base_uri": "https://localhost:8080/"
        },
        "id": "pbqk6diIoKbU",
        "outputId": "4c23cfe5-eb5b-48db-d560-d3cfa48e554f"
      },
      "execution_count": null,
      "outputs": [
        {
          "output_type": "execute_result",
          "data": {
            "text/plain": [
              "[1, 2, 3, 4, 5, 6, 7]"
            ]
          },
          "metadata": {},
          "execution_count": 67
        }
      ]
    },
    {
      "cell_type": "code",
      "source": [
        "# finding and deleting min value\n",
        "min = 1000000\n",
        "B = [34,4,4,56,67,7,8,2]\n",
        "\n",
        "for i in B:\n",
        "  if i < min:\n",
        "    min = i\n",
        "\n",
        "B.remove(min)\n",
        "B"
      ],
      "metadata": {
        "colab": {
          "base_uri": "https://localhost:8080/"
        },
        "id": "bCAKdIJjoW8k",
        "outputId": "36612240-3b43-40c0-8321-4189c1227085"
      },
      "execution_count": null,
      "outputs": [
        {
          "output_type": "execute_result",
          "data": {
            "text/plain": [
              "[34, 4, 4, 56, 67, 7, 8]"
            ]
          },
          "metadata": {},
          "execution_count": 69
        }
      ]
    }
  ]
}
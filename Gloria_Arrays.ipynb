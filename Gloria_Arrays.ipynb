{
  "nbformat": 4,
  "nbformat_minor": 0,
  "metadata": {
    "colab": {
      "provenance": [],
      "include_colab_link": true
    },
    "kernelspec": {
      "name": "python3",
      "display_name": "Python 3"
    },
    "language_info": {
      "name": "python"
    }
  },
  "cells": [
    {
      "cell_type": "markdown",
      "metadata": {
        "id": "view-in-github",
        "colab_type": "text"
      },
      "source": [
        "<a href=\"https://colab.research.google.com/github/7Blessings7/CMSC-204-Prog1/blob/main/Gloria_Arrays.ipynb\" target=\"_parent\"><img src=\"https://colab.research.google.com/assets/colab-badge.svg\" alt=\"Open In Colab\"/></a>"
      ]
    },
    {
      "cell_type": "markdown",
      "source": [
        "**Documentation and Brief Description**\n",
        "\n",
        "A basic implementation of the Array data structure as a requirement in partial completion of the Diploma in Computer Science course CMSC 204: Data Structures and Algorithms.\n",
        "\n",
        "The implementation provides the following tasks:\n",
        "\n",
        "\n",
        "\n",
        "1. Write a procedure for reversing the elements of an array.\n",
        "2. Formulate an algorithm for inserting a new element x into a sorted array A of size n.\n",
        "3. Write a procedure for finding the minimum in an array and deleting it from the array."
      ],
      "metadata": {
        "id": "6ZI4T8gMqKSJ"
      }
    },
    {
      "cell_type": "code",
      "execution_count": null,
      "metadata": {
        "id": "81pcRrrdpEd9",
        "colab": {
          "base_uri": "https://localhost:8080/"
        },
        "outputId": "930c5903-8099-4199-b0fd-6916f8b804ce"
      },
      "outputs": [
        {
          "output_type": "stream",
          "name": "stdout",
          "text": [
            "['pineapple', 'orange', 'banna', 'apples']\n"
          ]
        }
      ],
      "source": [
        "### Data\n",
        "data = [\"apples\",\"banna\",\"orange\",\"pineapple\"]\n",
        "rev_data = [\"0\"]*len(data)\n",
        "counter = len(data)\n",
        "\n",
        "### Reversing the elements of an array\n",
        "for i in range(counter):\n",
        "  rev_data[i] = data[counter-1]\n",
        "  counter = counter -1 \n",
        "print(rev_data)"
      ]
    },
    {
      "cell_type": "code",
      "source": [
        "### Inserting a new element x into a sorted array A of size n\n",
        "data.insert(2,\"grapes\")\n",
        "print(data)"
      ],
      "metadata": {
        "colab": {
          "base_uri": "https://localhost:8080/"
        },
        "id": "31xogziT60LT",
        "outputId": "62997de8-b2f8-44ff-c3d5-b5a2c2122e6e"
      },
      "execution_count": null,
      "outputs": [
        {
          "output_type": "stream",
          "name": "stdout",
          "text": [
            "['apples', 'banna', 'grapes', 'grapes', 'orange', 'pineapple']\n"
          ]
        }
      ]
    },
    {
      "cell_type": "code",
      "source": [
        "### Data\n",
        "value = [10,12,16,200,1]\n",
        "value_duplicate = value\n",
        "initial = value[0]\n",
        "order = 0\n",
        "\n",
        "### Finding the minimum in an array and deleteing i from the array\n",
        "for i in range(len(value)):\n",
        "  if initial < value[i]:\n",
        "    print(\"Next!\")\n",
        "  else:\n",
        "    initial = value[i]\n",
        "    order = i\n",
        "\n",
        "print(\"\\nThe minimum value is:\", initial)\n",
        "print(\"Original list:\", value)\n",
        "value.pop(order)\n",
        "print(\"Updated list:\", value)"
      ],
      "metadata": {
        "colab": {
          "base_uri": "https://localhost:8080/"
        },
        "id": "zAvqmTV_715G",
        "outputId": "918a0c0d-1246-44b2-e5d5-db48c90620e4"
      },
      "execution_count": null,
      "outputs": [
        {
          "output_type": "stream",
          "name": "stdout",
          "text": [
            "Next!\n",
            "Next!\n",
            "Next!\n",
            "\n",
            "The minimum value is: 1\n",
            "Original list: [10, 12, 16, 200, 1]\n",
            "Updated list: [10, 12, 16, 200]\n"
          ]
        }
      ]
    },
    {
      "cell_type": "markdown",
      "source": [
        "**Reflection**\n",
        "1. What helped me implement this data structure (Array) using Python?\n",
        "\n",
        "In all honesty, this data structure is quite common at work and I have been using/dealing with arrays for over 6 years already. So, frankly speaking I could say that it was my experience that helped implement this data structure coupled with my previous training on python.\n",
        "\n",
        "However, experience and training aside, I learned from the modules in this course a different perspective of this data structure - the theories and processes happening from the side of a computer. This was presented well in the module's video materials.\n",
        "\n",
        "2. What made this implementation challenging?\n",
        "\n",
        "Primarily this was challenging because I limited myself to use basic functions rather than using pre-defined functions on python. For example, the use of dataframes, etc.\n",
        "\n",
        "It was also challenging because it was quite basic and I had to re-read basic documentation to implement the tasks at hand. I was also confused with the remove() and pop() function at first because of the documentation. I also was challenge by the fact that this is quite different to my usual programming style.\n",
        "\n",
        "3. How did I overcome this programming challenge?\n",
        "\n",
        "I overcame the above challenges by re-reading documentations and doing trial and error. It also helped that I went over some of my classmates' work since I couldn't actualize yet how a programming log should be created."
      ],
      "metadata": {
        "id": "dF5h6TrUpfhS"
      }
    },
    {
      "cell_type": "markdown",
      "source": [
        "**References**\n",
        "\n",
        "* Garbo, M.K. (2023, February 13). Garbo Arrays Log\n",
        "* Programiz.com at https://www.programiz.com/python-programming/methods/list/remove (Accessed last March 5, 2023)\n"
      ],
      "metadata": {
        "id": "Reg6zIpwqFyk"
      }
    }
  ]
}
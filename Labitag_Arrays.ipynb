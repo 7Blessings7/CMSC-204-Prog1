{
  "nbformat": 4,
  "nbformat_minor": 0,
  "metadata": {
    "colab": {
      "provenance": [],
      "include_colab_link": true
    },
    "kernelspec": {
      "name": "python3",
      "display_name": "Python 3"
    },
    "language_info": {
      "name": "python"
    }
  },
  "cells": [
    {
      "cell_type": "markdown",
      "metadata": {
        "id": "view-in-github",
        "colab_type": "text"
      },
      "source": [
        "<a href=\"https://colab.research.google.com/github/7Blessings7/CMSC-204-Prog1/blob/main/Labitag_Arrays.ipynb\" target=\"_parent\"><img src=\"https://colab.research.google.com/assets/colab-badge.svg\" alt=\"Open In Colab\"/></a>"
      ]
    },
    {
      "cell_type": "markdown",
      "source": [
        "A. Codebasics Exercise:\n",
        "\n",
        "Given Monthly Expenses\n",
        "\n",
        "\n",
        "*   January - 2200\n",
        "*   February - 2350\n",
        "*   March - 2600\n",
        "*   April - 2130\n",
        "*   May - 2190\n",
        "\n",
        "Create a list to store these monthly expenses and using that find out:\n",
        "\n",
        "Q1: In Feb, how many dollars you spent extra compared to January?"
      ],
      "metadata": {
        "id": "Uuuxb9bZ8yiI"
      }
    },
    {
      "cell_type": "code",
      "source": [
        "#Solution for Q1:\n",
        "\n",
        "#Create a python list of monthly expenses:\n",
        "monthlyExpenses = [2200, 2350, 2600, 2130, 2190];\n",
        "\n",
        "#Use index to locate expenses for a specific month(e.g. [0] - Jan, [1] - Feb), etc.)\n",
        "#Get the difference in expenses using arithmetic operator (-)\n",
        "diff = monthlyExpenses[1] - monthlyExpenses[0];\n",
        "print(diff);"
      ],
      "metadata": {
        "colab": {
          "base_uri": "https://localhost:8080/"
        },
        "id": "PqA8pnea-4u1",
        "outputId": "70b50b07-8c63-4860-9d15-421a0c4dcc23"
      },
      "execution_count": null,
      "outputs": [
        {
          "output_type": "stream",
          "name": "stdout",
          "text": [
            "150\n"
          ]
        }
      ]
    },
    {
      "cell_type": "markdown",
      "source": [
        "Q2: Find out your total expense in first quarter (first three months) of the year."
      ],
      "metadata": {
        "id": "VPeyyN2aCMDt"
      }
    },
    {
      "cell_type": "code",
      "source": [
        "#Solution for Q2:\n",
        "\n",
        "firstQuarter = monthlyExpenses[0] + monthlyExpenses[1] + monthlyExpenses[2];\n",
        "print(firstQuarter);"
      ],
      "metadata": {
        "colab": {
          "base_uri": "https://localhost:8080/"
        },
        "id": "oiG7FVSdC646",
        "outputId": "550d1bc7-0417-4042-b37a-c1242501c67e"
      },
      "execution_count": null,
      "outputs": [
        {
          "output_type": "stream",
          "name": "stdout",
          "text": [
            "7150\n"
          ]
        }
      ]
    },
    {
      "cell_type": "markdown",
      "source": [
        "Q3: Find out if you spent exactly 2000 dollars in any month."
      ],
      "metadata": {
        "id": "VROC7-iUEpjL"
      }
    },
    {
      "cell_type": "code",
      "source": [
        "#Q3 Solution:\n",
        "\n",
        "#Loop through the contents of the array and find a matching element\n",
        "#First approach is to find the first match using python's built-in index method:\n",
        "#Note: use python's try except to handle errors (e.g. when no match in list)\n",
        "#Then print the month by creating another list that corresponds with each monthly expense (python dictionary can also be used for this)\n",
        "\n",
        "month = [\"January\", \"February\", \"March\", \"April\", \"May\"];\n",
        "\n",
        "# try:\n",
        "#   print(month[monthlyExpenses.index(2000)])\n",
        "# except ValueError:\n",
        "#   print(\"You did not spend exactly 2000 dollars in any month.\")\n",
        "\n",
        "#Second approach is to find all matches in the list using a for loop:\n",
        "#Create a count variable to monitor number of mismatches (also for printing no match)\n",
        "count = 0;\n",
        "\n",
        "for index in range(len(monthlyExpenses)):\n",
        "  if monthlyExpenses[index] == 2000:\n",
        "    print(month[index]);\n",
        "  else:\n",
        "    count += 1\n",
        "\n",
        "#print for no match\n",
        "if len(monthlyExpenses) == count:\n",
        "  print(\"You did not spend exactly 2000 dollars in any month.\")"
      ],
      "metadata": {
        "colab": {
          "base_uri": "https://localhost:8080/"
        },
        "id": "jyHMNXE3FHVd",
        "outputId": "7b5d405d-56ff-4293-ed8b-4f61ec6d2411"
      },
      "execution_count": null,
      "outputs": [
        {
          "output_type": "stream",
          "name": "stdout",
          "text": [
            "You did not spend exactly 2000 dollars in any month.\n"
          ]
        }
      ]
    },
    {
      "cell_type": "markdown",
      "source": [
        "Q4: Add monthly expense for June valued at 1980 dollars."
      ],
      "metadata": {
        "id": "uaR-89WBccAK"
      }
    },
    {
      "cell_type": "code",
      "source": [
        "#Q4 Solution:\n",
        "\n",
        "#Use python's append method to add elements to the end of a list:\n",
        "#We should also add June to our month list\n",
        "\n",
        "monthlyExpenses.append(1980);\n",
        "month.append(\"June\");\n",
        "\n",
        "print(monthlyExpenses);\n",
        "print(month);"
      ],
      "metadata": {
        "colab": {
          "base_uri": "https://localhost:8080/"
        },
        "id": "_Hqtvj59dhic",
        "outputId": "3480827a-3c0d-4b4e-bc93-27b9ed5b0e8b"
      },
      "execution_count": null,
      "outputs": [
        {
          "output_type": "stream",
          "name": "stdout",
          "text": [
            "[2200, 2350, 2600, 2130, 2190, 1980]\n",
            "['January', 'February', 'March', 'April', 'May', 'June']\n"
          ]
        }
      ]
    },
    {
      "cell_type": "markdown",
      "source": [
        "Q5: Edit monthly expense in April to reflect a refund of 200 dollars."
      ],
      "metadata": {
        "id": "aNHrNj1bfDIX"
      }
    },
    {
      "cell_type": "code",
      "source": [
        "#Q5 Solution:\n",
        "\n",
        "#Get index of April in list of months:\n",
        "indexApril = month.index(\"April\");\n",
        "\n",
        "#Print current monthly expense in April as a reference:\n",
        "print(\"Current April expense: \", monthlyExpenses[indexApril]);\n",
        "\n",
        "#Change value in monthlyExpenses list by refering to the index:\n",
        "monthlyExpenses[indexApril] = monthlyExpenses[indexApril] - 200;\n",
        "print(\"Updated April expense: \", monthlyExpenses[indexApril]);\n"
      ],
      "metadata": {
        "colab": {
          "base_uri": "https://localhost:8080/"
        },
        "id": "iYA_TAw4gJzE",
        "outputId": "207ed1b0-a906-450d-f6ed-fdf91e045345"
      },
      "execution_count": null,
      "outputs": [
        {
          "output_type": "stream",
          "name": "stdout",
          "text": [
            "Current April expense:  1930\n",
            "Updated April expense:  1730\n"
          ]
        }
      ]
    },
    {
      "cell_type": "markdown",
      "source": [
        "B. Now, you try it!\n",
        "\n",
        "Q1: Write a procedure for reversing the elements of an array."
      ],
      "metadata": {
        "id": "NpXQ9JcLip_7"
      }
    },
    {
      "cell_type": "code",
      "source": [
        "#Q1 Solution:\n",
        "\n",
        "#We can write a function that accepts an array as an argument:\n",
        "\n",
        "#sample list\n",
        "evenNumbers = [2, 4, 6, 8, 10, 12, 14, 16];\n",
        "\n",
        "def reverseList(array):\n",
        "  rList = [];\n",
        "  length = len(array);\n",
        "  #get the index of the last item in the list by subtracting 1 from its length\n",
        "  refIndex = length - 1;\n",
        "\n",
        "  for i in range(length):\n",
        "    rList.append(evenNumbers[refIndex]);\n",
        "    refIndex -= 1;\n",
        "\n",
        "  return rList;\n",
        "\n",
        "#print the reversed list passed into the function\n",
        "print(reverseList(evenNumbers));\n",
        "\n",
        "#Note: This can also be done using python's list reverse() method (see documenttation)"
      ],
      "metadata": {
        "colab": {
          "base_uri": "https://localhost:8080/"
        },
        "id": "vOzNnRWgjJPb",
        "outputId": "fef11c70-a8b1-4d76-8fac-8843319d3da0"
      },
      "execution_count": null,
      "outputs": [
        {
          "output_type": "stream",
          "name": "stdout",
          "text": [
            "[16, 14, 12, 10, 8, 6, 4, 2]\n"
          ]
        }
      ]
    }
  ]
}
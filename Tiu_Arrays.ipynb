{
  "nbformat": 4,
  "nbformat_minor": 0,
  "metadata": {
    "colab": {
      "provenance": [],
      "include_colab_link": true
    },
    "kernelspec": {
      "name": "python3",
      "display_name": "Python 3"
    },
    "language_info": {
      "name": "python"
    }
  },
  "cells": [
    {
      "cell_type": "markdown",
      "metadata": {
        "id": "view-in-github",
        "colab_type": "text"
      },
      "source": [
        "<a href=\"https://colab.research.google.com/github/7Blessings7/CMSC-204-Prog1/blob/main/Tiu_Arrays.ipynb\" target=\"_parent\"><img src=\"https://colab.research.google.com/assets/colab-badge.svg\" alt=\"Open In Colab\"/></a>"
      ]
    },
    {
      "cell_type": "markdown",
      "source": [
        "## Exercise: Array DataStructure\n",
        "\n",
        "Let us say your expense for every month are listed below,\n",
        "\n",
        "January - 2200\n",
        "\n",
        "February - 2350\n",
        "\n",
        "March - 2600\n",
        "\n",
        "April - 2130\n",
        "\n",
        "May - 2190\n",
        "\n",
        "Create a list to store these monthly expenses and using that find out,\n",
        "\n",
        "1. In Feb, how many dollars you spent extra compare to January?\n",
        "2. Find out your total expense in first quarter (first three months) of the year.\n",
        "3. Find out if you spent exactly 2000 dollars in any month\n",
        "4. June month just finished and your expense is 1980 dollar. Add this item to our monthly expense list\n",
        "5. You returned an item that you bought in a month of April and\n",
        "got a refund of 200$. Make a correction to your monthly expense list\n",
        "based on this"
      ],
      "metadata": {
        "id": "HnoZhkueS8jZ"
      }
    },
    {
      "cell_type": "code",
      "source": [
        "#create list\n",
        "monthly_exp = [2200, 2350, 2600, 2130, 2190]"
      ],
      "metadata": {
        "id": "h_sS42IPTVks"
      },
      "execution_count": null,
      "outputs": []
    },
    {
      "cell_type": "code",
      "source": [
        "#Difference between February and January Expense\n",
        "\n",
        "#Define Which month is which\n",
        "January = monthly_exp[0]\n",
        "February = monthly_exp[1]\n",
        "\n",
        "print('We spent an extra', February - January , 'February as compared to January')"
      ],
      "metadata": {
        "colab": {
          "base_uri": "https://localhost:8080/"
        },
        "id": "AztPiWWKUeSv",
        "outputId": "5d1d0de6-e648-4ca5-90d4-154749c71179"
      },
      "execution_count": null,
      "outputs": [
        {
          "output_type": "stream",
          "name": "stdout",
          "text": [
            "We spent an extra 150 February as compared to January\n"
          ]
        }
      ]
    },
    {
      "cell_type": "code",
      "source": [
        "#Spent in a Quarter\n",
        "\n",
        "Quarter = [monthly_exp[0], monthly_exp[1], monthly_exp[2]]\n",
        "\n",
        "print('The total expense for the quarter is', sum(Quarter))\n",
        "\n"
      ],
      "metadata": {
        "colab": {
          "base_uri": "https://localhost:8080/"
        },
        "id": "sVl44y7mV4vk",
        "outputId": "15117a99-d609-4ec4-8f71-cbd6da6f2dee"
      },
      "execution_count": null,
      "outputs": [
        {
          "output_type": "stream",
          "name": "stdout",
          "text": [
            "The total expense for the quarter is 7150\n"
          ]
        }
      ]
    },
    {
      "cell_type": "code",
      "source": [
        "#Did I spend exactly $2000 in any month?\n",
        "x = 2000\n",
        "\n",
        "if x in monthly_exp:\n",
        "  print('I have spent exactly $2000 in one of the month')\n",
        "else:\n",
        "  print('I have not spent exactly $2000') "
      ],
      "metadata": {
        "colab": {
          "base_uri": "https://localhost:8080/"
        },
        "id": "CzGhEIVTXs1q",
        "outputId": "c400de0b-03ea-40b1-d913-3da4e6932b95"
      },
      "execution_count": null,
      "outputs": [
        {
          "output_type": "stream",
          "name": "stdout",
          "text": [
            "I have not spent exactly $2000\n"
          ]
        }
      ]
    },
    {
      "cell_type": "code",
      "source": [
        "#add June Expense\n",
        "\n",
        "monthly_exp.append(1980)\n",
        "\n",
        "print(monthly_exp)"
      ],
      "metadata": {
        "colab": {
          "base_uri": "https://localhost:8080/"
        },
        "id": "rm-Jb_zaaLXR",
        "outputId": "fd36edef-f31f-44a1-ec7e-288424fe5216"
      },
      "execution_count": null,
      "outputs": [
        {
          "output_type": "stream",
          "name": "stdout",
          "text": [
            "[2200, 2350, 2600, 2130, 2190, 1980]\n"
          ]
        }
      ]
    },
    {
      "cell_type": "code",
      "source": [
        "#adjusting April expense\n",
        "\n",
        "monthly_exp[3] = monthly_exp[3] - 200\n",
        "\n",
        "print('The adjusted expense are', monthly_exp)"
      ],
      "metadata": {
        "colab": {
          "base_uri": "https://localhost:8080/"
        },
        "id": "-5oHGCQtak_7",
        "outputId": "ed2263a9-3ede-4309-c0f5-b7d9e8fa47cf"
      },
      "execution_count": null,
      "outputs": [
        {
          "output_type": "stream",
          "name": "stdout",
          "text": [
            "The adjusted expense are [2200, 2350, 2600, 1930, 2190, 1980]\n"
          ]
        }
      ]
    },
    {
      "cell_type": "markdown",
      "source": [
        "You have a list of your favourite marvel super heroes.\n",
        "\n",
        "heroes=['spider man','thor','hulk','iron man','captain america']\n",
        "\n",
        "Using this find out,\n",
        "\n",
        "1. Length of the list\n",
        "2. Add 'black panther' at the end of this list\n",
        "3. You realize that you need to add 'black panther' after 'hulk',\n",
        "   so remove it from the list first and then add it after 'hulk'\n",
        "4. Now you don't like thor and hulk because they get angry easily :)\n",
        "   So you want to remove thor and hulk from list and replace them with doctor strange (because he is cool).\n",
        "   Do that with one line of code.\n",
        "5. Sort the heros list in alphabetical order (Hint. Use dir() functions to list down all functions available in list)"
      ],
      "metadata": {
        "id": "jpI9RPnOb05j"
      }
    },
    {
      "cell_type": "code",
      "source": [
        "#list of heroes\n",
        "heroes=['spider man','thor','hulk','iron man','captain america']"
      ],
      "metadata": {
        "id": "s5gyzDbgcF41"
      },
      "execution_count": null,
      "outputs": []
    },
    {
      "cell_type": "code",
      "source": [
        "#Get the Lenth of the List\n",
        "\n",
        "print('The lenght of the list is', len(heroes))"
      ],
      "metadata": {
        "colab": {
          "base_uri": "https://localhost:8080/"
        },
        "id": "M3IKF0vEcNQf",
        "outputId": "308f914b-f63e-47b7-8cc5-ca62ac38b239"
      },
      "execution_count": null,
      "outputs": [
        {
          "output_type": "stream",
          "name": "stdout",
          "text": [
            "The lenght of the list is 5\n"
          ]
        }
      ]
    },
    {
      "cell_type": "code",
      "source": [
        "#Add Black Panther\n",
        "\n",
        "heroes.append('black panther')\n",
        "\n",
        "print(heroes)"
      ],
      "metadata": {
        "colab": {
          "base_uri": "https://localhost:8080/"
        },
        "id": "SdVjggj2caIT",
        "outputId": "4c140aec-8fc0-4917-dd74-5721883804dd"
      },
      "execution_count": null,
      "outputs": [
        {
          "output_type": "stream",
          "name": "stdout",
          "text": [
            "['spider man', 'thor', 'hulk', 'iron man', 'captain america', 'black panther']\n"
          ]
        }
      ]
    },
    {
      "cell_type": "code",
      "source": [
        "#inserting black panther in correct place\n",
        "\n",
        "heroes.remove('black panther')\n",
        "print(heroes)\n",
        "\n",
        "heroes.insert(3,'black panther')\n",
        "print(heroes)"
      ],
      "metadata": {
        "colab": {
          "base_uri": "https://localhost:8080/"
        },
        "id": "bdcmOz-9dHP_",
        "outputId": "d477976f-aaa5-4c07-f71c-de45cbedf732"
      },
      "execution_count": null,
      "outputs": [
        {
          "output_type": "stream",
          "name": "stdout",
          "text": [
            "['spider man', 'thor', 'hulk', 'iron man', 'captain america']\n",
            "['spider man', 'thor', 'hulk', 'black panther', 'iron man', 'captain america']\n"
          ]
        }
      ]
    },
    {
      "cell_type": "code",
      "source": [
        "#replacing 2 items from the list using 1 line\n",
        "\n",
        "heroes[1:3] = ['doctor strange']\n",
        "print(heroes)"
      ],
      "metadata": {
        "colab": {
          "base_uri": "https://localhost:8080/"
        },
        "id": "yNBpnH8yeZ4N",
        "outputId": "3aa10a76-8102-46ad-928a-7b72dfe41b1b"
      },
      "execution_count": null,
      "outputs": [
        {
          "output_type": "stream",
          "name": "stdout",
          "text": [
            "['spider man', 'doctor strange', 'black panther', 'iron man', 'captain america']\n"
          ]
        }
      ]
    },
    {
      "cell_type": "code",
      "source": [
        "#sorting the list\n",
        "\n",
        "heroes.sort()\n",
        "\n",
        "print(heroes)\n"
      ],
      "metadata": {
        "colab": {
          "base_uri": "https://localhost:8080/"
        },
        "id": "O75aRl-EfJtc",
        "outputId": "d0e9ccb9-946a-4fe5-89a9-10f6d39adad1"
      },
      "execution_count": null,
      "outputs": [
        {
          "output_type": "stream",
          "name": "stdout",
          "text": [
            "['black panther', 'captain america', 'doctor strange', 'iron man', 'spider man']\n"
          ]
        }
      ]
    },
    {
      "cell_type": "markdown",
      "source": [
        "Create a list of all odd numbers between 1 and a max number. Max number is something you need to take from a user using input() function"
      ],
      "metadata": {
        "id": "GT4iDUMYgnoU"
      }
    },
    {
      "cell_type": "code",
      "source": [
        "#Odd number list\n",
        "\n",
        "max = int(input(\"Enter a number: \")) #Define the Maximum value\n",
        "odd = [] #store the odd numbers\n",
        "\n",
        "for num in range(1, max+1): #to iterate from 1 to the max value\n",
        "    if num % 2 != 0:  #this is used to define if the number is odd or not\n",
        "        odd.append(num)\n",
        "\n",
        "print(\"List of odd numbers between 1 and\", max, \"is:\", odd)"
      ],
      "metadata": {
        "colab": {
          "base_uri": "https://localhost:8080/"
        },
        "id": "G5mBGNGZgtna",
        "outputId": "937ebff7-4d0b-41aa-d7d2-c82ee5163430"
      },
      "execution_count": null,
      "outputs": [
        {
          "output_type": "stream",
          "name": "stdout",
          "text": [
            "Enter a number: 25\n",
            "List of odd numbers between 1 and 25 is: [1, 3, 5, 7, 9, 11, 13, 15, 17, 19, 21, 23, 25]\n"
          ]
        }
      ]
    }
  ]
}
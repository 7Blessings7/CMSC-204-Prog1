{
  "nbformat": 4,
  "nbformat_minor": 0,
  "metadata": {
    "colab": {
      "provenance": [],
      "include_colab_link": true
    },
    "kernelspec": {
      "name": "python3",
      "display_name": "Python 3"
    },
    "language_info": {
      "name": "python"
    }
  },
  "cells": [
    {
      "cell_type": "markdown",
      "metadata": {
        "id": "view-in-github",
        "colab_type": "text"
      },
      "source": [
        "<a href=\"https://colab.research.google.com/github/7Blessings7/CMSC-204-Prog1/blob/main/Pair_25_Code_Ocam%5Bo_Clara.ipynb\" target=\"_parent\"><img src=\"https://colab.research.google.com/assets/colab-badge.svg\" alt=\"Open In Colab\"/></a>"
      ]
    },
    {
      "cell_type": "code",
      "execution_count": null,
      "metadata": {
        "id": "AjRIMAbZ5ZcK"
      },
      "outputs": [],
      "source": [
        "# Description: Gives anime recommendations to a collection of users\n",
        "# based on what they haven't watched, sorted by how highly the other\n",
        "# users within the circle rated said anime.\n",
        "\n",
        "### First, import networkx; a python package used for working with graphs\n",
        "import networkx as nx\n",
        "# Then, create a graph\n",
        "G = nx.Graph()\n"
      ]
    },
    {
      "cell_type": "code",
      "source": [
        "### 2) Add vertices for anime and users\n",
        "animes = ['Anime Kimetsu no Yaiba', 'Anime Oshi no Ko', 'Anime Jigokuraku', 'Anime Dr. Stone: New World', 'Anime Mashle', 'Anime Yamada-kun to Lv999 no Koi wo Suru', 'Anime Skip to Loafer']\n",
        "users = ['User Riddle', 'User Leona', 'User Azul', 'User Jamil', 'User Vil', 'User Idia', 'User Malleus']\n",
        "# Next, add these as nodes using networkx's networkx.Graph.add_nodes_from\n",
        "G.add_nodes_from(animes, bipartite=0)\n",
        "G.add_nodes_from(users, bipartite=1)"
      ],
      "metadata": {
        "id": "PZq5KE4g7L9G"
      },
      "execution_count": null,
      "outputs": []
    },
    {
      "cell_type": "code",
      "source": [
        "### 3) Create a weighted edge by showing the ratings each user has given the anime they've watched\n",
        "ratings = {\n",
        "    'User Riddle': {'Anime Dr. Stone: New World': 5},\n",
        "    'User Leona': {'Anime Kimetsu no Yaiba': 4, 'Anime Jigokuraku': 5, 'Anime Oshi no Ko': 2, 'Anime Mashle': 5},\n",
        "    'User Azul': {'Anime Dr. Stone: New World': 4, 'Anime Mashle': 1},\n",
        "    'User Jamil': {'Anime Oshi no Ko': 5, 'Anime Jigokuraku': 4, 'Anime Yamada-kun to Lv999 no Koi wo Suru': 3},\n",
        "    'User Vil': {'Anime Oshi no Ko':5, 'Anime Yamada-kun to Lv999 no Koi wo Suru': 3, 'Anime Skip to Loafer': 4},\n",
        "    'User Idia': {'Anime Kimetsu no Yaiba': 2, 'Anime Oshi no Ko': 5, 'Anime Jigokuraku': 3, 'Anime Yamada-kun to Lv999 no Koi wo Suru': 4, 'Anime Skip to Loafer': 4},\n",
        "    'User Malleus': {'Anime Yamada-kun to Lv999 no Koi wo Suru': 5, 'Anime Skip to Loafer': 5}\n",
        "} \n",
        "# Use loop to identify each user's entry in the ratings dictionary. Within that identified entry,\n",
        "# use loop again to identify each anime and their respective ratings from that user.\n",
        "# Then, use networkx's add_edge to connect the user and the anime with a weighted edge, which is the rating.\n",
        "\n",
        "for user, ratings_dict in ratings.items():\n",
        "  for anime, rating in ratings_dict.items():\n",
        "    G.add_edge(user, anime, weight=rating)"
      ],
      "metadata": {
        "id": "7UWd4rzO-RvV"
      },
      "execution_count": null,
      "outputs": []
    },
    {
      "cell_type": "code",
      "source": [
        "### 4) Start the recommendations\n",
        "for user in users:\n",
        "  # First, find which anime each user hasn't watched yet\n",
        "  unwatched_anime = [anime for anime in animes if not G.has_edge(user, anime)]\n",
        "\n",
        "  # After getting the unwatched list, get the average of the other users' rating for that particular anime\n",
        "  scores = {}\n",
        "  for anime in unwatched_anime:\n",
        "    neighbors = G[anime] #returns a dictionary with all nodes connected to each anime by an edge\n",
        "    scores[anime] = sum(neighbors[user]['weight'] for user in neighbors) / len(neighbors)\n",
        "\n",
        "  # Sort in descending order\n",
        "  recommendations = sorted(scores, key=scores.get, reverse=True)\n",
        "\n",
        "  ### 5) Print out the result\n",
        "  print(f\"{user}: {recommendations[:3]}\")\n"
      ],
      "metadata": {
        "colab": {
          "base_uri": "https://localhost:8080/"
        },
        "id": "l99FBjRhCgrQ",
        "outputId": "c26b550c-9fbc-4c74-f69d-2dcb5db61bd3"
      },
      "execution_count": null,
      "outputs": [
        {
          "output_type": "stream",
          "name": "stdout",
          "text": [
            "User Riddle: ['Anime Skip to Loafer', 'Anime Oshi no Ko', 'Anime Jigokuraku']\n",
            "User Leona: ['Anime Dr. Stone: New World', 'Anime Skip to Loafer', 'Anime Yamada-kun to Lv999 no Koi wo Suru']\n",
            "User Azul: ['Anime Skip to Loafer', 'Anime Oshi no Ko', 'Anime Jigokuraku']\n",
            "User Jamil: ['Anime Dr. Stone: New World', 'Anime Skip to Loafer', 'Anime Kimetsu no Yaiba']\n",
            "User Vil: ['Anime Dr. Stone: New World', 'Anime Jigokuraku', 'Anime Kimetsu no Yaiba']\n",
            "User Idia: ['Anime Dr. Stone: New World', 'Anime Mashle']\n",
            "User Malleus: ['Anime Dr. Stone: New World', 'Anime Oshi no Ko', 'Anime Jigokuraku']\n"
          ]
        }
      ]
    }
  ]
}
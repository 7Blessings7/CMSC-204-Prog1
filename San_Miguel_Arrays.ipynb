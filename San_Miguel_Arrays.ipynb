{
  "nbformat": 4,
  "nbformat_minor": 0,
  "metadata": {
    "colab": {
      "provenance": [],
      "include_colab_link": true
    },
    "kernelspec": {
      "name": "python3",
      "display_name": "Python 3"
    },
    "language_info": {
      "name": "python"
    }
  },
  "cells": [
    {
      "cell_type": "markdown",
      "metadata": {
        "id": "view-in-github",
        "colab_type": "text"
      },
      "source": [
        "<a href=\"https://colab.research.google.com/github/7Blessings7/CMSC-204-Prog1/blob/main/San_Miguel_Arrays.ipynb\" target=\"_parent\"><img src=\"https://colab.research.google.com/assets/colab-badge.svg\" alt=\"Open In Colab\"/></a>"
      ]
    },
    {
      "cell_type": "markdown",
      "source": [
        "**Ralph Adrian San Miguel**\n",
        "\n",
        "**CMSC-204 - Data Structures and Algorithms**"
      ],
      "metadata": {
        "id": "XCTMgpA0e08F"
      }
    },
    {
      "cell_type": "markdown",
      "source": [
        "Codebasics Excercise 1"
      ],
      "metadata": {
        "id": "oak_Qft_fH9y"
      }
    },
    {
      "cell_type": "code",
      "execution_count": null,
      "metadata": {
        "colab": {
          "base_uri": "https://localhost:8080/"
        },
        "id": "WR4ArvatKWjN",
        "outputId": "254a3499-3625-4836-be8d-5accc92571bf"
      },
      "outputs": [
        {
          "output_type": "stream",
          "name": "stdout",
          "text": [
            "1. In Feb, how many dollars did you spent extra compared to January? $ 150\n",
            "2. Find out your total expense in first quarter (first three months) of the year: $ 7150\n",
            "3. You have not spent exatcly 2000 dollars in any month yet\n",
            "4. List of expenses per month as of the end of June: [2200, 2350, 2600, 2130, 2190, 1980]\n",
            "5. Total expense in April after refund: $ 1930\n"
          ]
        }
      ],
      "source": [
        "'''Codebasics Excercise 1'''\n",
        "\n",
        "#List of monthly expenses\n",
        "expenses = [2200,2350,2600,2130,2190]\n",
        "\n",
        "#1. In Feb, how many dollars you spent extra compare to January?\n",
        "answer = expenses[1] - expenses[0]\n",
        "print(\"1. In Feb, how many dollars did you spent extra compared to January? $\", answer)\n",
        "\n",
        "#2. Find out the total expense in first quarter (first three months) of the year\n",
        "answer = expenses[0] + expenses[1] + expenses[2]\n",
        "print(\"2. Find out your total expense in first quarter (first three months) of the year: $\", answer)\n",
        "\n",
        "#3. Find out if you spent exactly 2000 dollars in any month, \n",
        "if 2000 in expenses:\n",
        "  #Store the index of 2000 in a variable\n",
        "  index = expenses.index(2000) \n",
        "  #Once 2000 has been added to the list, we call on the variable where we stored its index previously\n",
        "  #We then add 1 to it so that it will not follow zero-based counting\n",
        "  print(\"3. You have spent exactly 2000 dollars in month $\" + str(index + 1))    \n",
        "else:\n",
        "  print(\"3. You have not spent exatcly 2000 dollars in any month yet\")\n",
        "\n",
        "#4. June month just finished and your expense is 1980 dollar. Add this item to our monthly expense list\n",
        "answer = expenses.append(1980)\n",
        "print(\"4. List of expenses per month as of the end of June:\", expenses)\n",
        "\n",
        "#5. You returned an item that you bought in April and got a refund of 200$. Correct this.\n",
        "answer = expenses[3] - 200\n",
        "print(\"5. Total expense in April after refund: $\", answer)\n",
        "\n"
      ]
    },
    {
      "cell_type": "markdown",
      "source": [
        "Codebasics Excercise 2"
      ],
      "metadata": {
        "id": "ALZY_rwNh2cG"
      }
    },
    {
      "cell_type": "code",
      "source": [
        "'''Codebasics Excercise 2'''\n",
        "\n",
        "#List of heroes\n",
        "heroes = ['Spiderman','Thor','Hulk','Ironman','Captain America']\n",
        "\n",
        "#1. Get the length of the list\n",
        "print(\"1. Length of the list is:\", len(heroes))\n",
        "\n",
        "#2. Add 'black panther' at the end of this list\n",
        "heroes.append(\"Black Panther\")\n",
        "print(\"2. heroes:\", heroes)\n",
        "\n",
        "#3. Remove Black Panther from list, then add it after Hulk\n",
        "heroes.remove(\"Black Panther\")\n",
        "print(\"3. Remove Black Panther:\", heroes)\n",
        "heroes.insert(3, \"Black Panther\")\n",
        "print(\"   Added Black Panther:\", heroes)\n",
        "\n",
        "#4. Replace Thor and Hulk with Doctor Strange\n",
        "heroes[1:3] = [\"Doctor Strange\"]\n",
        "print(\"4.\",heroes)\n",
        "\n",
        "#5. Sort the list in alphabetical order\n",
        "heroes.sort()\n",
        "print(\"5.\",heroes)\n"
      ],
      "metadata": {
        "colab": {
          "base_uri": "https://localhost:8080/"
        },
        "id": "gjWnG4k9h125",
        "outputId": "35cdc667-19cc-4d3e-9387-4b7d89a80668"
      },
      "execution_count": null,
      "outputs": [
        {
          "output_type": "stream",
          "name": "stdout",
          "text": [
            "1. Length of the list is: 5\n",
            "2. heroes: ['Spiderman', 'Thor', 'Hulk', 'Ironman', 'Captain America', 'Black Panther']\n",
            "3. Remove Black Panther: ['Spiderman', 'Thor', 'Hulk', 'Ironman', 'Captain America']\n",
            "   Added Black Panther: ['Spiderman', 'Thor', 'Hulk', 'Black Panther', 'Ironman', 'Captain America']\n",
            "4. ['Spiderman', 'Doctor Strange', 'Black Panther', 'Ironman', 'Captain America']\n",
            "5. ['Black Panther', 'Captain America', 'Doctor Strange', 'Ironman', 'Spiderman']\n"
          ]
        }
      ]
    },
    {
      "cell_type": "markdown",
      "source": [
        "Codebasics Excercise 3"
      ],
      "metadata": {
        "id": "q5oH6GYfo2wD"
      }
    },
    {
      "cell_type": "code",
      "source": [
        "#Ask user for the max number \n",
        "user_input = int(input(\"Enter max number: \"))\n",
        "\n",
        "odd_numbers = []\n",
        "\n",
        "#Add 1 to the user input since the last number in a sequence is not included when using the range function\n",
        "for i in range(1, user_input + 1):\n",
        "    if i % 2 == 1:\n",
        "        odd_numbers.append(i)\n",
        "\n",
        "print(odd_numbers)\n",
        "\n"
      ],
      "metadata": {
        "colab": {
          "base_uri": "https://localhost:8080/"
        },
        "id": "_5lGc1IJo6Zv",
        "outputId": "6a245b7e-c533-467e-fb33-85946bf66052"
      },
      "execution_count": null,
      "outputs": [
        {
          "output_type": "stream",
          "name": "stdout",
          "text": [
            "Enter max number: 17\n",
            "[1, 3, 5, 7, 9, 11, 13, 15, 17]\n"
          ]
        }
      ]
    },
    {
      "cell_type": "markdown",
      "source": [
        "**Now You Try It!**\n",
        "\n",
        "1. Write a procedure for reversing the elements of an array"
      ],
      "metadata": {
        "id": "McDJ8Fucxqp_"
      }
    },
    {
      "cell_type": "code",
      "source": [
        "'''Without using any built-in functions, write a procedure for reversing the elements of an array'''\n",
        "\n",
        "#My Sample list because I am about to order food online\n",
        "my_list = ['Shakeys','Jollibee','Mcdonalds','Burger King','Chowking']\n",
        "\n",
        "#Need to divide it by 2 since we only need half of the list to do the reversal\n",
        "#Without dividing by 2, we only end up with the original list\n",
        "for i in range(len(my_list)//2):\n",
        "  placeholder = my_list[i]\n",
        "  my_list[i] = my_list[len(my_list) -i - 1]\n",
        "  my_list[len(my_list) -i - 1] = placeholder\n",
        "\n",
        "print(my_list)\n"
      ],
      "metadata": {
        "colab": {
          "base_uri": "https://localhost:8080/"
        },
        "id": "KdHMhUqoxwdE",
        "outputId": "ec26c2a8-d3e4-4146-b71e-3fe7536f6bfc"
      },
      "execution_count": null,
      "outputs": [
        {
          "output_type": "stream",
          "name": "stdout",
          "text": [
            "['Chowking', 'Burger King', 'Mcdonalds', 'Jollibee', 'Shakeys']\n"
          ]
        }
      ]
    },
    {
      "cell_type": "markdown",
      "source": [
        "4. Write a procedure for finding the minimum in an array and deleting it from the array."
      ],
      "metadata": {
        "id": "G_6H6_dB-Qdk"
      }
    },
    {
      "cell_type": "code",
      "source": [
        "'''Write a procedure for finding the minimum in an array and deleting it from the array'''\n",
        "\n",
        "#My Sample list\n",
        "my_list = [3,7,8,-300,0,1,-2]\n",
        "\n",
        "#Iniitalize placeholder variable for index and a value\n",
        "minimum_array = my_list[0]\n",
        "\n",
        "for i in range(len(my_list)):\n",
        "  if my_list[i] <= minimum_array:\n",
        "    minimum_array = my_list[i]\n",
        "\n",
        "my_list.remove(minimum_array)\n",
        "\n",
        "print(my_list)\n"
      ],
      "metadata": {
        "colab": {
          "base_uri": "https://localhost:8080/"
        },
        "id": "JYadfBKd-aBD",
        "outputId": "76ff864b-f35a-4304-d592-ed992bba2ed9"
      },
      "execution_count": null,
      "outputs": [
        {
          "output_type": "stream",
          "name": "stdout",
          "text": [
            "[3, 7, 8, 0, 1, -2]\n"
          ]
        }
      ]
    }
  ]
}
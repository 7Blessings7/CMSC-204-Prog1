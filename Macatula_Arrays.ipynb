{
  "nbformat": 4,
  "nbformat_minor": 0,
  "metadata": {
    "colab": {
      "provenance": [],
      "include_colab_link": true
    },
    "kernelspec": {
      "name": "python3",
      "display_name": "Python 3"
    },
    "language_info": {
      "name": "python"
    }
  },
  "cells": [
    {
      "cell_type": "markdown",
      "metadata": {
        "id": "view-in-github",
        "colab_type": "text"
      },
      "source": [
        "<a href=\"https://colab.research.google.com/github/7Blessings7/CMSC-204-Prog1/blob/main/Macatula_Arrays.ipynb\" target=\"_parent\"><img src=\"https://colab.research.google.com/assets/colab-badge.svg\" alt=\"Open In Colab\"/></a>"
      ]
    },
    {
      "cell_type": "code",
      "source": [
        "# exercise 1 Array DataStructure\n",
        "my_monthly_expense = [2200, 2350, 2600,2130, 2190]\n",
        "Jan = 2200\n",
        "Feb = 2350\n",
        "Mar = 2600\n",
        "Apr = 2130 \n",
        "May = 2190\n",
        "x = 2000\n",
        "\n",
        "# Create a list to store these monthly expenses and using that find out,\n",
        "# 1. In Feb, how many dollars you spent extra compare to January?\n",
        "# 2. Find out your total expense in first quarter (first three months) of the year.\n",
        "# 3. Find out if you spent exactly 2000 dollars in any month\n",
        "# 4. June month just finished and your expense is 1980 dollar. Add this item to our monthly expense list\n",
        "# 5. You returned an item that you bought in a month of April and\n",
        "# got a refund of 200$. Make a correction to your monthly expense list\n",
        "# based on this\n",
        "\n",
        "print(\"My monthly expense\")\n",
        "print(\"January-2200\")\n",
        "print(\"February-2350\")\n",
        "print(\"March-2600\")\n",
        "print(\"April-2130\")\n",
        "print(\"May-2190\")\n",
        "\n",
        "extra_exp_Feb = Jan - Feb\n",
        "print(\"My extra expense for Feb is\", extra_exp_Feb)\n",
        "\n",
        "first_qtr_exp = Jan + Feb + Mar\n",
        "print(\"My first quarter expense is\", first_qtr_exp)\n",
        "\n",
        "for i in range(len(my_monthly_expense)):\n",
        "  if my_monthly_expense[i] == x :\n",
        "    print(\"i\")\n",
        "  else:\n",
        "    print(\"None\")\n",
        "\n",
        "# June month just finished and your expense is 1980 dollar. Add this item to our monthly expense list\n",
        "total_monthly_expense = Jan + Feb + Mar + Apr + May \n",
        "June = 1980\n",
        "semi_annual_exp = total_monthly_expense + June\n",
        "print(\"My semi-annual expense is\", semi_annual_exp)\n",
        "\n",
        "# You returned an item that you bought in a month of April and\n",
        "# got a refund of 200$. Make a correction to your monthly expense list\n",
        "# based on this\n",
        "ref = 200\n",
        "Apr = Apr - ref\n",
        "print(\"My expense in April is\", Apr)\n",
        "print(\"My semi-annual expense total is\", semi_annual_exp)\n",
        "\n",
        "\n",
        "\n",
        "      \n",
        "\n",
        " "
      ],
      "metadata": {
        "colab": {
          "base_uri": "https://localhost:8080/"
        },
        "id": "BNasEOvWNZyk",
        "outputId": "f284db12-4cf0-40b1-8114-d372a39d2529"
      },
      "execution_count": null,
      "outputs": [
        {
          "output_type": "stream",
          "name": "stdout",
          "text": [
            "My monthly expense\n",
            "January-2200\n",
            "February-2350\n",
            "March-2600\n",
            "April-2130\n",
            "May-2190\n",
            "My extra expense for Feb is -150\n",
            "My first quarter expense is 7150\n",
            "None\n",
            "None\n",
            "None\n",
            "None\n",
            "None\n",
            "My semi-annual expense is 13250\n",
            "My expense in April is 1730\n",
            "My semi-annual expense total is 13250\n"
          ]
        }
      ]
    },
    {
      "cell_type": "code",
      "source": [],
      "metadata": {
        "id": "DK6qJB4SRxxG"
      },
      "execution_count": null,
      "outputs": []
    },
    {
      "cell_type": "code",
      "source": [
        "# You have a list of your favourite marvel super heros.\n",
        "# heros=['spider man','thor','hulk','iron man','captain america']\n",
        "# Using this find out,\n",
        "# 1. Length of the list\n",
        "# 2. Add 'black panther' at the end of this list\n",
        "# 3. You realize that you need to add 'black panther' after 'hulk',\n",
        "# so remove it from the list first and then add it after 'hulk'\n",
        "# 4. Now you don't like thor and hulk because they get angry easily :)\n",
        "# So you want to remove thor and hulk from list and replace them with doctor strange (because he is cool).\n",
        "# Do that with one line of code.\n",
        "# 5. Sort the heros list in alphabetical order (Hint. Use dir() functions to list down all functions available in list)\n",
        "\n",
        "heros=[\"spiderman\", \"thor\", \"hulk\", \"iron man\", \"captain america\"]\n",
        "x = len(heros)\n",
        "print(x)\n",
        "\n",
        "heros.insert(3,'black panther')\n",
        "print(heros)\n",
        "\n",
        "heros[1:3] = ['doctor strange']\n",
        "print(heros)\n",
        "\n",
        "heros.sort()\n",
        "print(heros)\n",
        "\n"
      ],
      "metadata": {
        "colab": {
          "base_uri": "https://localhost:8080/"
        },
        "id": "Ur5A_R2j3Hsi",
        "outputId": "dd863b87-2db8-443f-b2c9-b4f5380400c5"
      },
      "execution_count": null,
      "outputs": [
        {
          "output_type": "stream",
          "name": "stdout",
          "text": [
            "5\n",
            "['spiderman', 'thor', 'hulk', 'black panther', 'iron man', 'captain america']\n",
            "['spiderman', 'doctor strange', 'black panther', 'iron man', 'captain america']\n",
            "['black panther', 'captain america', 'doctor strange', 'iron man', 'spiderman']\n"
          ]
        }
      ]
    },
    {
      "cell_type": "code",
      "source": [
        "# Create a list of all odd numbers between 1 and a max number. Max number is something you need to take from a user using input() function\n",
        "max = int(input(100))\n",
        "oddNum = []\n",
        "for i in range(1, max):\n",
        "  if i % 2 == 1:\n",
        "    oddNum.append(i)\n",
        "print(\"Odd Numbers up to 100 are\", oddNum)"
      ],
      "metadata": {
        "id": "C6lUidlNDA9s"
      },
      "execution_count": null,
      "outputs": []
    }
  ]
}
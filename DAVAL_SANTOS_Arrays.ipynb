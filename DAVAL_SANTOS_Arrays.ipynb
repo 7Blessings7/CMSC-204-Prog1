{
  "nbformat": 4,
  "nbformat_minor": 0,
  "metadata": {
    "colab": {
      "provenance": [],
      "include_colab_link": true
    },
    "kernelspec": {
      "name": "python3",
      "display_name": "Python 3"
    },
    "language_info": {
      "name": "python"
    }
  },
  "cells": [
    {
      "cell_type": "markdown",
      "metadata": {
        "id": "view-in-github",
        "colab_type": "text"
      },
      "source": [
        "<a href=\"https://colab.research.google.com/github/7Blessings7/CMSC-204-Prog1/blob/main/DAVAL_SANTOS_Arrays.ipynb\" target=\"_parent\"><img src=\"https://colab.research.google.com/assets/colab-badge.svg\" alt=\"Open In Colab\"/></a>"
      ]
    },
    {
      "cell_type": "markdown",
      "source": [
        "PROGRAMMING LOG - ARRAYS\n",
        "Gerald R. Daval-Santos\n",
        "2011-40572"
      ],
      "metadata": {
        "id": "F6WkwmGkEJvw"
      }
    },
    {
      "cell_type": "markdown",
      "source": [
        "Now, you try it!"
      ],
      "metadata": {
        "id": "XORDp60QjjvO"
      }
    },
    {
      "cell_type": "markdown",
      "source": [
        "1. Write a procedure for reversing the elements of an array.\n"
      ],
      "metadata": {
        "id": "IsrSI9jUjoMw"
      }
    },
    {
      "cell_type": "code",
      "source": [
        "# I will define a function called reverse that will take an array as input\n",
        "# and returns a new array containing the same elements in reverse order\n",
        "\n",
        "def reverse(A):\n",
        "  reversed = []\n",
        "  upper = len(A)\n",
        "  lower = 1\n",
        "  while upper >= lower:\n",
        "    reversed.append(A[upper - 1])\n",
        "    upper -= 1\n",
        "  return reversed"
      ],
      "metadata": {
        "id": "RVB2B0XMkI3m"
      },
      "execution_count": null,
      "outputs": []
    },
    {
      "cell_type": "code",
      "source": [
        "A = [1, 2, 3, 4, 5]\n",
        "\n",
        "reverse(A)"
      ],
      "metadata": {
        "colab": {
          "base_uri": "https://localhost:8080/"
        },
        "id": "qYgUu70glVzm",
        "outputId": "b8e8fc68-7ff2-420e-977b-2af52b9053a3"
      },
      "execution_count": null,
      "outputs": [
        {
          "output_type": "execute_result",
          "data": {
            "text/plain": [
              "[5, 4, 3, 2, 1]"
            ]
          },
          "metadata": {},
          "execution_count": 2
        }
      ]
    },
    {
      "cell_type": "markdown",
      "source": [
        "  2. Write a procedure for merging two sorted arrays into one."
      ],
      "metadata": {
        "id": "eP5gohyt7TaR"
      }
    },
    {
      "cell_type": "code",
      "source": [
        "# This was an attempt I made when I read the textbook\n",
        "\n",
        "def merge(A, B):\n",
        "    merged = []\n",
        "    \n",
        "    lower_a = 1\n",
        "    lower_b = 1\n",
        "    \n",
        "    while len(merged) != len(A) + len(B):\n",
        "        while lower_a <= len(A) and lower_b <= len(B):\n",
        "            if A[lower_a - 1] < B[lower_b - 1]:\n",
        "                merged.append(A[lower_a - 1])\n",
        "                lower_a += 1\n",
        "            \n",
        "            elif B[lower_b - 1] < A[lower_a - 1]:\n",
        "                merged.append(B[lower_b - 1])\n",
        "                lower_b += 1\n",
        "        \n",
        "            else:\n",
        "                merged.append(A[lower_a - 1])\n",
        "                lower_a += 1\n",
        "                merged.append(B[lower_b - 1])\n",
        "                lower_b += 1\n",
        "        \n",
        "        if len(A) == len(B):\n",
        "            if lower_a > lower_b:\n",
        "                merged.append(B[lower_b - 1])\n",
        "            else:\n",
        "                merged.append(A[lower_a - 1])\n",
        "        else:\n",
        "            if len(A) > len(B):\n",
        "                merged.append(A[lower_a - 1])\n",
        "                lower_a += 1\n",
        "            elif len(B) > len(A):\n",
        "                merged.append(B[lower_b - 1])\n",
        "                lower_b += 1\n",
        "    \n",
        "    return merged\n"
      ],
      "metadata": {
        "id": "8QN1puJQ7aHH"
      },
      "execution_count": null,
      "outputs": []
    },
    {
      "cell_type": "code",
      "source": [
        "# Test Cases\n",
        "\n",
        "A = [1, 5, 7, 13, 20, 30]\n",
        "B = [3, 4, 6, 8, 12, 15, 35]\n",
        "\n",
        "#A = [3, 4, 4]\n",
        "#B = [1, 2, 5]\n",
        "\n",
        "#A = []\n",
        "#B = []\n",
        "\n",
        "merge(A, B)"
      ],
      "metadata": {
        "colab": {
          "base_uri": "https://localhost:8080/"
        },
        "id": "Z3JeIW6nDPut",
        "outputId": "9b7a2758-49bb-46ef-c2e5-3481b7e606fb"
      },
      "execution_count": null,
      "outputs": [
        {
          "output_type": "execute_result",
          "data": {
            "text/plain": [
              "[1, 3, 4, 5, 6, 7, 8, 12, 13, 15, 20, 30, 35]"
            ]
          },
          "metadata": {},
          "execution_count": 2
        }
      ]
    },
    {
      "cell_type": "markdown",
      "source": [
        "  3. Formulate an algorithm for inserting a new element x into a sorted array A of size n."
      ],
      "metadata": {
        "id": "aXDfxX7NDaB6"
      }
    },
    {
      "cell_type": "code",
      "source": [
        "# My attempt at answering SAQ 1-1 item number 3\n",
        "\n",
        "def insert(x, A):\n",
        "    \"\"\"insert a new element x \n",
        "    into a sorted array A of size n\"\"\"\n",
        "    \n",
        "    new_A = []\n",
        "    insert_index = 0\n",
        "    \n",
        "    lower, upper = 1, len(A)\n",
        "    middle = (lower + upper) // 2\n",
        "    \n",
        "    if x > A[middle - 1]:\n",
        "        if x <= A[middle - 1 + 1]:\n",
        "            insert_index = middle\n",
        "        else:\n",
        "            while x > A[middle - 1 + 1] and middle <= len(A):\n",
        "                middle += 1\n",
        "            insert_index = middle\n",
        "            \n",
        "    elif x < A[middle - 1]:\n",
        "        if x >= A[middle - 1 - 1]:\n",
        "            insert_index = middle - 1\n",
        "        else:\n",
        "            while x < A[middle - 1] and middle > 0:\n",
        "                middle -= 1\n",
        "            insert_index = middle\n",
        "                \n",
        "    else:\n",
        "        insert_index = middle\n",
        "    \n",
        "    i = 0\n",
        "    while len(new_A) != len(A) + 1:\n",
        "        if insert_index == len(new_A):\n",
        "            new_A.append(x)\n",
        "        new_A.append(A[i])\n",
        "        i += 1\n",
        "    \n",
        "    return new_A"
      ],
      "metadata": {
        "id": "tkJdxlFADkM5"
      },
      "execution_count": null,
      "outputs": []
    },
    {
      "cell_type": "code",
      "source": [
        "# Test Cases\n",
        "    \n",
        "A = [1, 25, 36, 75, 346]\n",
        "\n",
        "#insert(0, A)\n",
        "#insert(50, A)\n",
        "insert(100, A)\n",
        "#insert(25, A)\n",
        "#insert(30, A)\n",
        "#insert(346, A)\n",
        "#insert(36, A)\n"
      ],
      "metadata": {
        "colab": {
          "base_uri": "https://localhost:8080/"
        },
        "id": "teohPH8rD2mo",
        "outputId": "1b4b5c3e-c924-4c24-d7af-8d945c995c2a"
      },
      "execution_count": null,
      "outputs": [
        {
          "output_type": "execute_result",
          "data": {
            "text/plain": [
              "[1, 25, 36, 75, 100, 346]"
            ]
          },
          "metadata": {},
          "execution_count": 6
        }
      ]
    },
    {
      "cell_type": "markdown",
      "source": [
        "  4. Write a procedure for finding the minimum in an array and deleting it from the array."
      ],
      "metadata": {
        "id": "Ec6Ju0eFEH4x"
      }
    },
    {
      "cell_type": "code",
      "source": [
        "def delete_minimum(A):\n",
        "    \"\"\"find the minimum in an array \n",
        "    and delete it (first instance) from the array\"\"\"\n",
        "    \n",
        "    new_A = []\n",
        "    \n",
        "    # Find the minimum\n",
        "    minimum = A[0]\n",
        "    min_index = 0\n",
        "    \n",
        "    for i in range(len(A)):\n",
        "        if A[i] < minimum:\n",
        "            minimum = A[i]\n",
        "            min_index = i\n",
        "    \n",
        "    print(f\"The minimum is {minimum}\")\n",
        "    \n",
        "    j = 0\n",
        "    while len(new_A) != len(A) - 1:\n",
        "        if j != min_index:\n",
        "            new_A.append(A[j])\n",
        "        j += 1\n",
        "    \n",
        "    return new_A"
      ],
      "metadata": {
        "id": "IQv2kL3fEaE3"
      },
      "execution_count": null,
      "outputs": []
    },
    {
      "cell_type": "code",
      "source": [
        "A = [13,  3452, 1235, 13, 543]\n",
        "\n",
        "delete_minimum(A)\n",
        "        \n"
      ],
      "metadata": {
        "id": "KrJZURLtE14d",
        "outputId": "acc45df4-78da-4415-f2cf-03fea4ff88e2",
        "colab": {
          "base_uri": "https://localhost:8080/"
        }
      },
      "execution_count": null,
      "outputs": [
        {
          "output_type": "stream",
          "name": "stdout",
          "text": [
            "The minimum is 13\n"
          ]
        },
        {
          "output_type": "execute_result",
          "data": {
            "text/plain": [
              "[3452, 1235, 13, 543]"
            ]
          },
          "metadata": {},
          "execution_count": 8
        }
      ]
    }
  ]
}
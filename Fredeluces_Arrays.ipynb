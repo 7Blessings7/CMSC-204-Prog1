{
  "nbformat": 4,
  "nbformat_minor": 0,
  "metadata": {
    "colab": {
      "provenance": [],
      "include_colab_link": true
    },
    "kernelspec": {
      "name": "python3",
      "display_name": "Python 3"
    },
    "language_info": {
      "name": "python"
    }
  },
  "cells": [
    {
      "cell_type": "markdown",
      "metadata": {
        "id": "view-in-github",
        "colab_type": "text"
      },
      "source": [
        "<a href=\"https://colab.research.google.com/github/7Blessings7/CMSC-204-Prog1/blob/main/Fredeluces_Arrays.ipynb\" target=\"_parent\"><img src=\"https://colab.research.google.com/assets/colab-badge.svg\" alt=\"Open In Colab\"/></a>"
      ]
    },
    {
      "cell_type": "markdown",
      "source": [
        "Let us say your expense for every month are listed below,\n",
        "\n",
        "*   January - 2200\n",
        "*   February - 2350\n",
        "*   March - 2600\n",
        "*   April - 2130\n",
        "*   May - 2190\n",
        "\n",
        "Create a list to store these monthly expenses and using that find out"
      ],
      "metadata": {
        "id": "ZFoempKUf-3_"
      }
    },
    {
      "cell_type": "code",
      "execution_count": null,
      "metadata": {
        "colab": {
          "base_uri": "https://localhost:8080/"
        },
        "id": "SF_77Yynfya7",
        "outputId": "63ac9628-9562-404f-e01a-49d80b7b6ec8"
      },
      "outputs": [
        {
          "output_type": "stream",
          "name": "stdout",
          "text": [
            "[2200, 2350, 2600, 2130, 2190]\n"
          ]
        }
      ],
      "source": [
        "monthlyExpenses = [2200, 2350, 2600, 2130, 2190]\n",
        "print(monthlyExpenses)"
      ]
    },
    {
      "cell_type": "markdown",
      "source": [
        "Q1: In Feb, how many dollars you spent extra compare to January?"
      ],
      "metadata": {
        "id": "AGBQAacRg6YR"
      }
    },
    {
      "cell_type": "code",
      "source": [
        "\n",
        "def calculateMonthlyDifference(month):\n",
        "  thisMonth = 0\n",
        "  if month == \"Jan\":\n",
        "    thisMonth = 0\n",
        "  elif month == \"Feb\":\n",
        "    thisMonth = 1\n",
        "  elif month == \"Mar\":\n",
        "    thisMonth = 2\n",
        "  elif month == \"Apr\":\n",
        "    thisMonth = 3\n",
        "  elif month == \"May\":\n",
        "    thisMonth = 4\n",
        "\n",
        "  return monthlyExpenses[thisMonth] - monthlyExpenses[thisMonth-1]\n",
        "\n",
        "print(calculateMonthlyDifference(\"Feb\"))"
      ],
      "metadata": {
        "colab": {
          "base_uri": "https://localhost:8080/"
        },
        "id": "Nic1FHdXhG-g",
        "outputId": "715bc666-ebed-46ec-ef03-0888b9c01326"
      },
      "execution_count": null,
      "outputs": [
        {
          "output_type": "stream",
          "name": "stdout",
          "text": [
            "2200\n",
            "150\n"
          ]
        }
      ]
    },
    {
      "cell_type": "markdown",
      "source": [
        "Q2: Find out your total expense in first quarter (first three months) of the year.\n"
      ],
      "metadata": {
        "id": "I8gfyYk5kAIf"
      }
    },
    {
      "cell_type": "code",
      "source": [
        "def calculateQuarterlyExpenses(quarter):\n",
        "  quarterRange = []\n",
        "  if quarter == 1:\n",
        "    quarterRange = [0,3]\n",
        "  elif quarter == 2:\n",
        "    quarterRange = [3,6]\n",
        "  elif quarter == 3:\n",
        "    quarterRange = [6,9]\n",
        "  else:\n",
        "    quarterRange = [9,12]\n",
        "\n",
        "  quarterTotal = 0\n",
        "\n",
        "  for x in range(quarterRange[0], quarterRange[1]):\n",
        "    quarterTotal += monthlyExpenses[x] \n",
        "\n",
        "  return quarterTotal\n",
        "\n",
        "print(calculateQuarterlyExpenses(1))"
      ],
      "metadata": {
        "colab": {
          "base_uri": "https://localhost:8080/"
        },
        "id": "rcJzOx7nkCce",
        "outputId": "82b60229-02b4-4491-ca1d-7d6f080e66d6"
      },
      "execution_count": null,
      "outputs": [
        {
          "output_type": "stream",
          "name": "stdout",
          "text": [
            "7150\n"
          ]
        }
      ]
    },
    {
      "cell_type": "markdown",
      "source": [
        "Q3: Find out if you spent exactly 2000 dollars in any month"
      ],
      "metadata": {
        "id": "Ez86N3N8mgSX"
      }
    },
    {
      "cell_type": "code",
      "source": [
        "def hasSpent(amount):\n",
        "  result = 0\n",
        "\n",
        "  for i in monthlyExpenses:\n",
        "    if i == amount:\n",
        "      result = 1\n",
        "\n",
        "  return result\n",
        "  \n",
        "hasSpent(2000)"
      ],
      "metadata": {
        "colab": {
          "base_uri": "https://localhost:8080/"
        },
        "id": "Dqrk4Tzsmtxo",
        "outputId": "8071d1d6-ed1d-4b8d-ce14-b92775558dbf"
      },
      "execution_count": null,
      "outputs": [
        {
          "output_type": "execute_result",
          "data": {
            "text/plain": [
              "0"
            ]
          },
          "metadata": {},
          "execution_count": 23
        }
      ]
    },
    {
      "cell_type": "markdown",
      "source": [
        "Q3: June month just finished and your expense is 1980 dollar. Add this item to our monthly expense list"
      ],
      "metadata": {
        "id": "oUsXGawinh4S"
      }
    },
    {
      "cell_type": "code",
      "source": [
        "def addExpense(amount):\n",
        "  monthlyExpenses.append(amount)\n",
        "\n",
        "  return monthlyExpenses\n",
        "\n",
        "print(addExpense(1980))\n"
      ],
      "metadata": {
        "colab": {
          "base_uri": "https://localhost:8080/"
        },
        "id": "7W0n4PgpnkpY",
        "outputId": "fb1bf75e-728b-43fb-e136-ef1fe954be02"
      },
      "execution_count": null,
      "outputs": [
        {
          "output_type": "stream",
          "name": "stdout",
          "text": [
            "[2200, 2350, 2600, 2600, 2130, 2190, 1980]\n"
          ]
        }
      ]
    },
    {
      "cell_type": "markdown",
      "source": [
        "You returned an item that you bought in a month of April and\n",
        "got a refund of 200$. Make a correction to your monthly expense list\n",
        "based on this\n"
      ],
      "metadata": {
        "id": "2YVlX1L2oU-h"
      }
    },
    {
      "cell_type": "code",
      "source": [
        "def makeCorrection(month, operation, cost):\n",
        "  monthValue = 0\n",
        "\n",
        "  # harcoded April value\n",
        "  if month == \"Apr\":\n",
        "    monthValue = 3\n",
        "\n",
        "  if operation == \"add\":\n",
        "    monthlyExpenses[monthValue] = monthlyExpenses[monthValue] + cost\n",
        "  else:\n",
        "    \n",
        "    monthlyExpenses[monthValue] = monthlyExpenses[monthValue] - cost\n",
        "\n",
        "  return monthlyExpenses\n",
        "\n",
        "print(makeCorrection(\"Apr\", \"subtract\", 200))"
      ],
      "metadata": {
        "colab": {
          "base_uri": "https://localhost:8080/"
        },
        "id": "J3hTWOYhoWkz",
        "outputId": "9bbfc293-d140-4fea-eb59-efb78b027431"
      },
      "execution_count": null,
      "outputs": [
        {
          "output_type": "stream",
          "name": "stdout",
          "text": [
            "[2200, 2350, 2600, 1930, 2190]\n"
          ]
        }
      ]
    },
    {
      "cell_type": "markdown",
      "source": [
        "You have a list of your favourite marvel super heros."
      ],
      "metadata": {
        "id": "AYm_bNjBqTK_"
      }
    },
    {
      "cell_type": "code",
      "source": [
        "heroes=['spider man','thor','hulk','iron man','captain america']"
      ],
      "metadata": {
        "id": "3jPOCCWfqX3A"
      },
      "execution_count": null,
      "outputs": []
    },
    {
      "cell_type": "markdown",
      "source": [
        "Q1. Length of the list\n"
      ],
      "metadata": {
        "id": "Pkg7ZOyXqZdS"
      }
    },
    {
      "cell_type": "code",
      "source": [
        "print(len(heroes))\n"
      ],
      "metadata": {
        "colab": {
          "base_uri": "https://localhost:8080/"
        },
        "id": "4zInxQBcqlG8",
        "outputId": "f03e9059-6c66-4826-96ce-32d2ed5f8a55"
      },
      "execution_count": null,
      "outputs": [
        {
          "output_type": "stream",
          "name": "stdout",
          "text": [
            "5\n"
          ]
        }
      ]
    },
    {
      "cell_type": "markdown",
      "source": [
        "Q2: Add 'black panther' at the end of this list"
      ],
      "metadata": {
        "id": "zg9vpzwTq3NB"
      }
    },
    {
      "cell_type": "code",
      "source": [
        "heroes.append(\"black panther\")\n",
        "\n",
        "print(heroes)"
      ],
      "metadata": {
        "colab": {
          "base_uri": "https://localhost:8080/"
        },
        "id": "6HtJ__5Wq5RF",
        "outputId": "826ad477-6f9d-4b4a-9ac1-b0d86029ab76"
      },
      "execution_count": null,
      "outputs": [
        {
          "output_type": "stream",
          "name": "stdout",
          "text": [
            "['spider man', 'thor', 'hulk', 'iron man', 'captain america', 'black panther']\n"
          ]
        }
      ]
    },
    {
      "cell_type": "markdown",
      "source": [
        "Q3: You realize that you need to add 'black panther' after 'hulk',\n",
        "   so remove it from the list first and then add it after 'hulk'"
      ],
      "metadata": {
        "id": "exqWyg1hrB18"
      }
    },
    {
      "cell_type": "code",
      "source": [
        "heroes.pop()\n",
        "print(heroes)\n",
        "\n",
        "heroes.insert(3, \"black panther\")\n",
        "print(heroes)"
      ],
      "metadata": {
        "colab": {
          "base_uri": "https://localhost:8080/"
        },
        "id": "Az-nZLTirD50",
        "outputId": "d0d68ddb-3f34-49a7-9418-2dbfcc2691dd"
      },
      "execution_count": null,
      "outputs": [
        {
          "output_type": "stream",
          "name": "stdout",
          "text": [
            "['spider man', 'thor', 'hulk', 'iron man']\n",
            "['spider man', 'thor', 'hulk', 'black panther', 'iron man']\n"
          ]
        }
      ]
    },
    {
      "cell_type": "markdown",
      "source": [
        "Q4: Now you don't like thor and hulk because they get angry easily :)\n",
        "   So you want to remove thor and hulk from list and replace them with doctor strange (because he is cool).\n",
        "   Do that with one line of code."
      ],
      "metadata": {
        "id": "iLPbJr1_sI4N"
      }
    },
    {
      "cell_type": "code",
      "source": [
        "heroes=['spider man','thor','hulk','iron man','captain america']\n",
        "\n",
        "# del heroes[2:3]\n",
        "# del heroes[2:4]\n",
        "\n",
        "heroes[1:3] = [\"doctor strange\"]\n",
        "\n",
        "print(heroes)"
      ],
      "metadata": {
        "colab": {
          "base_uri": "https://localhost:8080/"
        },
        "id": "cLW6KMwJsPLm",
        "outputId": "b34ebaf3-f110-4b41-d189-ac5913a36724"
      },
      "execution_count": null,
      "outputs": [
        {
          "output_type": "stream",
          "name": "stdout",
          "text": [
            "['spider man', 'doctor strange', 'iron man', 'captain america']\n"
          ]
        }
      ]
    },
    {
      "cell_type": "markdown",
      "source": [
        "Q5:Sort the heros list in alphabetical order (Hint. Use dir() functions to list down all functions available in list)"
      ],
      "metadata": {
        "id": "x5HZUNzh0R0b"
      }
    },
    {
      "cell_type": "code",
      "source": [
        "# dir(heroes)\n",
        "\n",
        "heroes.sort()\n",
        "\n",
        "print(heroes)"
      ],
      "metadata": {
        "colab": {
          "base_uri": "https://localhost:8080/"
        },
        "id": "Tk06dEhu0T1N",
        "outputId": "49dddfff-6729-469d-ef68-cbb5dd7b5940"
      },
      "execution_count": null,
      "outputs": [
        {
          "output_type": "stream",
          "name": "stdout",
          "text": [
            "['captain america', 'hulk', 'iron man', 'spider man', 'thor']\n"
          ]
        }
      ]
    },
    {
      "cell_type": "markdown",
      "source": [
        "Create a list of all odd numbers between 1 and a max number. Max number is something you need to take from a user using input() function"
      ],
      "metadata": {
        "id": "GD7LYzRn1210"
      }
    },
    {
      "cell_type": "code",
      "source": [
        "from re import I\n",
        "print(\"enter a number to get all the odd numbers from 1 to you input number\")\n",
        "\n",
        "num = input()\n",
        "\n",
        "oddArray = []\n",
        "for i in range(int(num)+1):\n",
        "  if (i % 2) != 0:\n",
        "    oddArray.append(i)\n",
        "\n",
        "print(oddArray)"
      ],
      "metadata": {
        "colab": {
          "base_uri": "https://localhost:8080/"
        },
        "id": "-h9RVzfL14Os",
        "outputId": "9fbaeefa-cb34-4777-e31d-0c54d3e968c7"
      },
      "execution_count": null,
      "outputs": [
        {
          "output_type": "stream",
          "name": "stdout",
          "text": [
            "enter a number to get all the odd numbers from 1 to you input number\n",
            "13\n",
            "[1, 3, 5, 7, 9, 11, 13]\n"
          ]
        }
      ]
    }
  ]
}
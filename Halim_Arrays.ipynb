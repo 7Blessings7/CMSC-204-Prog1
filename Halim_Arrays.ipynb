{
  "nbformat": 4,
  "nbformat_minor": 0,
  "metadata": {
    "colab": {
      "provenance": [],
      "include_colab_link": true
    },
    "kernelspec": {
      "name": "python3",
      "display_name": "Python 3"
    },
    "language_info": {
      "name": "python"
    }
  },
  "cells": [
    {
      "cell_type": "markdown",
      "metadata": {
        "id": "view-in-github",
        "colab_type": "text"
      },
      "source": [
        "<a href=\"https://colab.research.google.com/github/7Blessings7/CMSC-204-Prog1/blob/main/Halim_Arrays.ipynb\" target=\"_parent\"><img src=\"https://colab.research.google.com/assets/colab-badge.svg\" alt=\"Open In Colab\"/></a>"
      ]
    },
    {
      "cell_type": "markdown",
      "source": [
        "# **Answers to \"Exercise: Array DataStructure\"**"
      ],
      "metadata": {
        "id": "o7H30ham3BdD"
      }
    },
    {
      "cell_type": "code",
      "execution_count": null,
      "metadata": {
        "id": "hr-EyIe0phBj"
      },
      "outputs": [],
      "source": [
        "expenses = [2200, 2350, 2600, 2130, 2190]"
      ]
    },
    {
      "cell_type": "markdown",
      "source": [
        "**Q1. In Feb, how many dollars you spent extra compare to January?**"
      ],
      "metadata": {
        "id": "6V826Z-y3xQs"
      }
    },
    {
      "cell_type": "code",
      "source": [
        "extra_spent = expenses[1] - expenses[0]\n",
        "extra_spent"
      ],
      "metadata": {
        "colab": {
          "base_uri": "https://localhost:8080/"
        },
        "id": "vfRj-UtX3sn7",
        "outputId": "a48914e9-bd21-4df1-8f74-e3fa8696cb1b"
      },
      "execution_count": null,
      "outputs": [
        {
          "output_type": "execute_result",
          "data": {
            "text/plain": [
              "150"
            ]
          },
          "metadata": {},
          "execution_count": 2
        }
      ]
    },
    {
      "cell_type": "markdown",
      "source": [
        "**Q2. Find out your total expense in first quarter (first three months) of the year.**"
      ],
      "metadata": {
        "id": "WNY7SHxB4T_F"
      }
    },
    {
      "cell_type": "code",
      "source": [
        "q1_expenses = expenses[0] + expenses[1] + expenses[2]\n",
        "q1_expenses"
      ],
      "metadata": {
        "colab": {
          "base_uri": "https://localhost:8080/"
        },
        "id": "cBrvGXUd4Fd7",
        "outputId": "ce843d0b-f2cf-4464-e438-7cb42437dec3"
      },
      "execution_count": null,
      "outputs": [
        {
          "output_type": "execute_result",
          "data": {
            "text/plain": [
              "7150"
            ]
          },
          "metadata": {},
          "execution_count": 3
        }
      ]
    },
    {
      "cell_type": "markdown",
      "source": [
        "**Q3. Find out if you spent exactly 2000 dollars in any month**"
      ],
      "metadata": {
        "id": "HcYp8l_f5IiO"
      }
    },
    {
      "cell_type": "code",
      "source": [
        "spent_2k = False\n",
        "for amt in expenses:\n",
        "  if amt == 2000:\n",
        "    spent_2k = True\n",
        "spent_2k"
      ],
      "metadata": {
        "colab": {
          "base_uri": "https://localhost:8080/"
        },
        "id": "JsLrbpVt4xo-",
        "outputId": "9a32fef7-6758-4307-8f18-e2e9a93828ac"
      },
      "execution_count": null,
      "outputs": [
        {
          "output_type": "execute_result",
          "data": {
            "text/plain": [
              "False"
            ]
          },
          "metadata": {},
          "execution_count": 4
        }
      ]
    },
    {
      "cell_type": "markdown",
      "source": [
        "Alternatively,"
      ],
      "metadata": {
        "id": "UEjCrxck6DqA"
      }
    },
    {
      "cell_type": "code",
      "source": [
        "spent_2k = 2000 in expenses\n",
        "spent_2k"
      ],
      "metadata": {
        "colab": {
          "base_uri": "https://localhost:8080/"
        },
        "id": "ssjefju46CxA",
        "outputId": "daa8983e-6283-4884-d0c4-fe173f86ef0b"
      },
      "execution_count": null,
      "outputs": [
        {
          "output_type": "execute_result",
          "data": {
            "text/plain": [
              "False"
            ]
          },
          "metadata": {},
          "execution_count": 5
        }
      ]
    },
    {
      "cell_type": "markdown",
      "source": [
        "**Q4. June month just finished and your expense is 1980 dollar. Add this item to our monthly expense list**"
      ],
      "metadata": {
        "id": "GcSInJvH6Xuz"
      }
    },
    {
      "cell_type": "code",
      "source": [
        "expenses.append(1980)\n",
        "expenses"
      ],
      "metadata": {
        "colab": {
          "base_uri": "https://localhost:8080/"
        },
        "id": "xio0pRWF6Kb2",
        "outputId": "c5b4d40d-86af-4ad5-cf0b-c6d316615506"
      },
      "execution_count": null,
      "outputs": [
        {
          "output_type": "execute_result",
          "data": {
            "text/plain": [
              "[2200, 2350, 2600, 2130, 2190, 1980]"
            ]
          },
          "metadata": {},
          "execution_count": 6
        }
      ]
    },
    {
      "cell_type": "markdown",
      "source": [
        "**Q5. You returned an item that you bought in a month of April and\n",
        "got a refund of 200$. Make a correction to your monthly expense list\n",
        "based on this**"
      ],
      "metadata": {
        "id": "yRSUZYv-7POp"
      }
    },
    {
      "cell_type": "code",
      "source": [
        "expenses[3] = expenses[3] - 200\n",
        "expenses"
      ],
      "metadata": {
        "colab": {
          "base_uri": "https://localhost:8080/"
        },
        "id": "aFrsInBt7YBJ",
        "outputId": "d0970bd5-2041-4f50-ced6-c469a36aca0a"
      },
      "execution_count": null,
      "outputs": [
        {
          "output_type": "execute_result",
          "data": {
            "text/plain": [
              "[2200, 2350, 2600, 1930, 2190, 1980]"
            ]
          },
          "metadata": {},
          "execution_count": 7
        }
      ]
    },
    {
      "cell_type": "markdown",
      "source": [
        "==============="
      ],
      "metadata": {
        "id": "qibKrz847zAr"
      }
    },
    {
      "cell_type": "code",
      "source": [
        "heros=['spider man','thor','hulk','iron man','captain america']"
      ],
      "metadata": {
        "id": "xO6tPfpG7mS2"
      },
      "execution_count": null,
      "outputs": []
    },
    {
      "cell_type": "markdown",
      "source": [
        "**Q1. Length of the list**"
      ],
      "metadata": {
        "id": "WOqOMQdI8HQG"
      }
    },
    {
      "cell_type": "code",
      "source": [
        "heros_len = len(heros)\n",
        "heros_len"
      ],
      "metadata": {
        "colab": {
          "base_uri": "https://localhost:8080/"
        },
        "id": "GBFlMctl8OvM",
        "outputId": "30503253-ef51-4ac9-e5e3-4c9d11e2694e"
      },
      "execution_count": null,
      "outputs": [
        {
          "output_type": "execute_result",
          "data": {
            "text/plain": [
              "5"
            ]
          },
          "metadata": {},
          "execution_count": 9
        }
      ]
    },
    {
      "cell_type": "markdown",
      "source": [
        "**Q2. Add 'black panther' at the end of this list**"
      ],
      "metadata": {
        "id": "sMeWmNOg8ur2"
      }
    },
    {
      "cell_type": "code",
      "source": [
        "heros.append('black panther')\n",
        "heros"
      ],
      "metadata": {
        "colab": {
          "base_uri": "https://localhost:8080/"
        },
        "id": "CKzrIJXw8xQH",
        "outputId": "516840db-ad17-4375-fe85-4e6ae9b50c20"
      },
      "execution_count": null,
      "outputs": [
        {
          "output_type": "execute_result",
          "data": {
            "text/plain": [
              "['spider man', 'thor', 'hulk', 'iron man', 'captain america', 'black panther']"
            ]
          },
          "metadata": {},
          "execution_count": 10
        }
      ]
    },
    {
      "cell_type": "markdown",
      "source": [
        "**Q3. You realize that you need to add 'black panther' after 'hulk',\n",
        "   so remove it from the list first and then add it after 'hulk'**"
      ],
      "metadata": {
        "id": "jzL8kZ7e9PYs"
      }
    },
    {
      "cell_type": "code",
      "source": [
        "heros.pop()\n",
        "heros"
      ],
      "metadata": {
        "colab": {
          "base_uri": "https://localhost:8080/"
        },
        "id": "GRr_MouA9Vg7",
        "outputId": "c2d1204e-e834-4e0f-c590-e366db552f80"
      },
      "execution_count": null,
      "outputs": [
        {
          "output_type": "execute_result",
          "data": {
            "text/plain": [
              "['spider man', 'thor', 'hulk', 'iron man', 'captain america']"
            ]
          },
          "metadata": {},
          "execution_count": 11
        }
      ]
    },
    {
      "cell_type": "code",
      "source": [
        "heros.insert(3, 'black panther')\n",
        "heros"
      ],
      "metadata": {
        "colab": {
          "base_uri": "https://localhost:8080/"
        },
        "id": "SA3X5Lq89ixz",
        "outputId": "bb09dea7-2811-4ba7-87d6-6aa3792d6ac0"
      },
      "execution_count": null,
      "outputs": [
        {
          "output_type": "execute_result",
          "data": {
            "text/plain": [
              "['spider man', 'thor', 'hulk', 'black panther', 'iron man', 'captain america']"
            ]
          },
          "metadata": {},
          "execution_count": 12
        }
      ]
    },
    {
      "cell_type": "markdown",
      "source": [
        "**Q4. Now you don't like thor and hulk because they get angry easily :)\n",
        "   So you want to remove thor and hulk from list and replace them with doctor strange (because he is cool).\n",
        "   Do that with one line of code.**"
      ],
      "metadata": {
        "id": "zBxMyUZ_-DHT"
      }
    },
    {
      "cell_type": "code",
      "source": [
        "heros = heros[:1] + ['doctor strange'] + heros[3:]\n",
        "heros"
      ],
      "metadata": {
        "colab": {
          "base_uri": "https://localhost:8080/"
        },
        "id": "HQ71Ncd19y4x",
        "outputId": "20d4cbf8-bc78-4ba8-f809-c0e77eb2b507"
      },
      "execution_count": null,
      "outputs": [
        {
          "output_type": "execute_result",
          "data": {
            "text/plain": [
              "['spider man',\n",
              " 'doctor strange',\n",
              " 'black panther',\n",
              " 'iron man',\n",
              " 'captain america']"
            ]
          },
          "metadata": {},
          "execution_count": 13
        }
      ]
    },
    {
      "cell_type": "markdown",
      "source": [
        "**Q5. Sort the heros list in alphabetical order (Hint. Use dir() functions to list down all functions available in list)**"
      ],
      "metadata": {
        "id": "-sKz1Jql-xJl"
      }
    },
    {
      "cell_type": "code",
      "source": [
        "dir(heros)"
      ],
      "metadata": {
        "colab": {
          "base_uri": "https://localhost:8080/"
        },
        "id": "G14jkOma-iHJ",
        "outputId": "1b7346f4-fa4c-407f-e898-ecca63cbb8ce"
      },
      "execution_count": null,
      "outputs": [
        {
          "output_type": "execute_result",
          "data": {
            "text/plain": [
              "['__add__',\n",
              " '__class__',\n",
              " '__contains__',\n",
              " '__delattr__',\n",
              " '__delitem__',\n",
              " '__dir__',\n",
              " '__doc__',\n",
              " '__eq__',\n",
              " '__format__',\n",
              " '__ge__',\n",
              " '__getattribute__',\n",
              " '__getitem__',\n",
              " '__gt__',\n",
              " '__hash__',\n",
              " '__iadd__',\n",
              " '__imul__',\n",
              " '__init__',\n",
              " '__init_subclass__',\n",
              " '__iter__',\n",
              " '__le__',\n",
              " '__len__',\n",
              " '__lt__',\n",
              " '__mul__',\n",
              " '__ne__',\n",
              " '__new__',\n",
              " '__reduce__',\n",
              " '__reduce_ex__',\n",
              " '__repr__',\n",
              " '__reversed__',\n",
              " '__rmul__',\n",
              " '__setattr__',\n",
              " '__setitem__',\n",
              " '__sizeof__',\n",
              " '__str__',\n",
              " '__subclasshook__',\n",
              " 'append',\n",
              " 'clear',\n",
              " 'copy',\n",
              " 'count',\n",
              " 'extend',\n",
              " 'index',\n",
              " 'insert',\n",
              " 'pop',\n",
              " 'remove',\n",
              " 'reverse',\n",
              " 'sort']"
            ]
          },
          "metadata": {},
          "execution_count": 14
        }
      ]
    },
    {
      "cell_type": "code",
      "source": [
        "heros.sort()\n",
        "heros"
      ],
      "metadata": {
        "colab": {
          "base_uri": "https://localhost:8080/"
        },
        "id": "_sMpiXpd-51g",
        "outputId": "c4754d87-d913-4713-f766-d1613f8b1896"
      },
      "execution_count": null,
      "outputs": [
        {
          "output_type": "execute_result",
          "data": {
            "text/plain": [
              "['black panther',\n",
              " 'captain america',\n",
              " 'doctor strange',\n",
              " 'iron man',\n",
              " 'spider man']"
            ]
          },
          "metadata": {},
          "execution_count": 15
        }
      ]
    },
    {
      "cell_type": "markdown",
      "source": [
        "==============="
      ],
      "metadata": {
        "id": "W_0BJrdm_m0P"
      }
    },
    {
      "cell_type": "markdown",
      "source": [
        "**Create a list of all odd numbers between 1 and a max number. Max number is something you need to take from a user using input() function**"
      ],
      "metadata": {
        "id": "Pensxr96_ph5"
      }
    },
    {
      "cell_type": "code",
      "source": [
        "max_num = input()\n",
        "odd_numbers = [i for i in range(int(max_num)) if i % 2 != 0]\n",
        "odd_numbers"
      ],
      "metadata": {
        "colab": {
          "base_uri": "https://localhost:8080/"
        },
        "id": "sfNyUyUo_TPc",
        "outputId": "96fbc567-c3c2-4d23-c871-6aba371ca69e"
      },
      "execution_count": null,
      "outputs": [
        {
          "name": "stdout",
          "output_type": "stream",
          "text": [
            "15\n"
          ]
        },
        {
          "output_type": "execute_result",
          "data": {
            "text/plain": [
              "[1, 3, 5, 7, 9, 11, 13]"
            ]
          },
          "metadata": {},
          "execution_count": 17
        }
      ]
    },
    {
      "cell_type": "markdown",
      "source": [
        "==============="
      ],
      "metadata": {
        "id": "ye4TdOl_AozW"
      }
    },
    {
      "cell_type": "markdown",
      "source": [
        "**Write a procedure for reversing the elements of an array.**"
      ],
      "metadata": {
        "id": "dIwzpiwAAwiu"
      }
    },
    {
      "cell_type": "code",
      "source": [
        "arr = [1,2,3,4,5,6,7]\n",
        "n = len(arr)\n",
        "mid = n // 2\n",
        "i = 0\n",
        "\n",
        "while i < mid:\n",
        "  temp = arr[i]\n",
        "  arr[i] = arr[n - (i + 1)]\n",
        "  arr[n - (i + 1)] = temp\n",
        "  i += 1\n",
        "arr"
      ],
      "metadata": {
        "colab": {
          "base_uri": "https://localhost:8080/"
        },
        "id": "WUQuCukrANk3",
        "outputId": "e90a2bfb-10f9-459f-d5e5-99c296a460ed"
      },
      "execution_count": null,
      "outputs": [
        {
          "output_type": "execute_result",
          "data": {
            "text/plain": [
              "[7, 6, 5, 4, 3, 2, 1]"
            ]
          },
          "metadata": {},
          "execution_count": 18
        }
      ]
    }
  ]
}
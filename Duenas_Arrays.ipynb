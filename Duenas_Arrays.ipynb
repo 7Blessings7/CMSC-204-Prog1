{
  "nbformat": 4,
  "nbformat_minor": 0,
  "metadata": {
    "colab": {
      "provenance": [],
      "include_colab_link": true
    },
    "kernelspec": {
      "name": "python3",
      "display_name": "Python 3"
    },
    "language_info": {
      "name": "python"
    }
  },
  "cells": [
    {
      "cell_type": "markdown",
      "metadata": {
        "id": "view-in-github",
        "colab_type": "text"
      },
      "source": [
        "<a href=\"https://colab.research.google.com/github/7Blessings7/CMSC-204-Prog1/blob/main/Duenas_Arrays.ipynb\" target=\"_parent\"><img src=\"https://colab.research.google.com/assets/colab-badge.svg\" alt=\"Open In Colab\"/></a>"
      ]
    },
    {
      "cell_type": "code",
      "execution_count": null,
      "metadata": {
        "colab": {
          "base_uri": "https://localhost:8080/"
        },
        "id": "8QzdjotqsVu0",
        "outputId": "a346e6a8-4221-464f-fffe-8809c3f982a0"
      },
      "outputs": [
        {
          "output_type": "stream",
          "name": "stdout",
          "text": [
            "['Timberwolves', 'Thunders', 'Mavericks', 'Nets', 'Bulls', 'Lakers']\n"
          ]
        }
      ],
      "source": [
        "# Now your try it exercises.\n",
        "#1.  Create a procedure that will reverse the elements of an array.\n",
        "\n",
        "#Create an array\n",
        "teams = ['Lakers', 'Bulls', 'Nets', 'Mavericks', 'Thunders', 'Timberwolves']\n",
        "\n",
        "# Create an empty list \n",
        "reversed_list = []\n",
        "\n",
        "#Use for loop \n",
        "for i in teams:\n",
        "  reversed_list = [i] + reversed_list  #iterate through the array, elements will be stored to the empty array and reversal will happen by adding the elements with the new array on every iteration until reaching the last element.\n",
        "print(reversed_list)                    \n",
        "\n"
      ]
    },
    {
      "cell_type": "code",
      "source": [
        "#2. Write a procedure for merging 2 arrays into 1.\n",
        "\n",
        "#Create same arrays to merge\n",
        "nba_teams = ['Lakers', 'Bulls', 'Nets', 'Mavericks', 'Thunders', 'Timberwolves']\n",
        "pba_teams = ['Purefoods Hotshots', 'Brgy. Ginebra', 'San Miguel Beermen', 'Crispa', 'Toyota']\n",
        "\n",
        "#use the + operator to merge 2 the arrays\n",
        "merged_teams = nba_teams + pba_teams\n",
        "\n",
        "print(merged_teams)\n",
        "\n"
      ],
      "metadata": {
        "colab": {
          "base_uri": "https://localhost:8080/"
        },
        "id": "MI36FK6OyVH6",
        "outputId": "9fb02656-988f-4224-b26f-8082cab9e957"
      },
      "execution_count": null,
      "outputs": [
        {
          "output_type": "stream",
          "name": "stdout",
          "text": [
            "['Lakers', 'Bulls', 'Nets', 'Mavericks', 'Thunders', 'Timberwolves', 'Purefoods Hotshots', 'Brgy. Ginebra', 'San Miguel Beermen', 'Crispa', 'Toyota']\n"
          ]
        }
      ]
    },
    {
      "cell_type": "code",
      "source": [
        "#3.  Formulate an algorithm for inserting a new element x into a sorted array of A of size N\n",
        "\n",
        "#Sample array for colors\n",
        "A= ['brown', 'purple', 'red', 'orange', 'black']\n",
        "\n",
        "# Function that will insert x into a sorted A array with dynamic size.\n",
        "def insert_into_list():\n",
        "  x = input('Enter your favorite color: ')\n",
        "  x = x.lower()\n",
        "  A.sort()      #Sort the array using the built-in methond sort()\n",
        "  if x not in A:\n",
        "    A.append(x)  #Insert the element to the array using the built-in method append()\n",
        "    A.sort()     # Sort the array once again.\n",
        "    print(A)\n",
        "  else:\n",
        "    insert_into_list() #recursive function\n",
        "\n",
        "#call the function\n",
        "insert_into_list()\n",
        "\n",
        "#Reference: \n",
        "#Array methods found in https://www.w3schools.com/python/python_arrays.asp\n",
        "#https://www.w3schools.com/python/gloss_python_function_recursion.asp"
      ],
      "metadata": {
        "colab": {
          "base_uri": "https://localhost:8080/"
        },
        "id": "ERQQGrUw0q37",
        "outputId": "c45ca91a-cfd8-403d-8912-e02badc016b1"
      },
      "execution_count": null,
      "outputs": [
        {
          "output_type": "stream",
          "name": "stdout",
          "text": [
            "Enter your favorite color: blue\n",
            "['black', 'blue', 'brown', 'orange', 'purple', 'red']\n"
          ]
        }
      ]
    },
    {
      "cell_type": "code",
      "source": [
        "import random\n",
        "#4. Write a procedure for finding a minimum in an array and deleting it from the array.\n",
        "\n",
        "#Create a function that will delete the mimimum value from the array.\n",
        "def delete_min():\n",
        "  n = int(input('Enter number of elements in an array: '))  #Input size of the array\n",
        "  nums = list(range(1,n))     #Generate the array using the range method \n",
        "  random.shuffle(nums)        #Shuffle the values using the random.shuffle() method, this will also prevent duplicate values\n",
        "  print(f'The original values in the array are: {nums}')\n",
        "  minimum = min(nums)\n",
        "  print(f'The minimum value is: {minimum}')  #Get the minimum value using the built-in method min()\n",
        "  nums.remove(minimum)                        #Remove the minimum from the array using the built-in method remove()\n",
        "  print(f'The new values in the array are: {nums}')\n",
        "\n",
        "delete_min()\n",
        "\n",
        "#https://www.w3schools.com/python/ref_func_range.asp\n",
        "#https://www.w3schools.com/python/ref_random_shuffle.asp\n",
        "#https://www.w3schools.com/python/ref_func_min.asp - find the minimum value\n"
      ],
      "metadata": {
        "colab": {
          "base_uri": "https://localhost:8080/"
        },
        "id": "Qy_AErtzB7rM",
        "outputId": "b6edaeea-8711-493a-80a7-11607c257bad"
      },
      "execution_count": null,
      "outputs": [
        {
          "output_type": "stream",
          "name": "stdout",
          "text": [
            "Enter number of elements in an array: 20\n",
            "The original values in the array are: [6, 9, 3, 16, 18, 4, 11, 19, 14, 13, 15, 5, 10, 2, 17, 7, 1, 12, 8]\n",
            "The minimum value is: 1\n",
            "The new values in the array are: [6, 9, 3, 16, 18, 4, 11, 19, 14, 13, 15, 5, 10, 2, 17, 7, 12, 8]\n"
          ]
        }
      ]
    }
  ]
}
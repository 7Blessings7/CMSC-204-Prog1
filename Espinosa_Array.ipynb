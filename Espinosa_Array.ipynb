{
  "nbformat": 4,
  "nbformat_minor": 0,
  "metadata": {
    "colab": {
      "provenance": [],
      "include_colab_link": true
    },
    "kernelspec": {
      "name": "python3",
      "display_name": "Python 3"
    },
    "language_info": {
      "name": "python"
    }
  },
  "cells": [
    {
      "cell_type": "markdown",
      "metadata": {
        "id": "view-in-github",
        "colab_type": "text"
      },
      "source": [
        "<a href=\"https://colab.research.google.com/github/7Blessings7/CMSC-204-Prog1/blob/main/Espinosa_Array.ipynb\" target=\"_parent\"><img src=\"https://colab.research.google.com/assets/colab-badge.svg\" alt=\"Open In Colab\"/></a>"
      ]
    },
    {
      "cell_type": "code",
      "execution_count": null,
      "metadata": {
        "id": "yoS-TndnY_n1",
        "colab": {
          "base_uri": "https://localhost:8080/"
        },
        "outputId": "80ec9fca-259a-41e0-9ce2-51fe64d54a31"
      },
      "outputs": [
        {
          "output_type": "stream",
          "name": "stdout",
          "text": [
            "1. In Feb, how many dollars you spent extra compare to January? 150\n",
            "2. Find out your total expense in first quarter (first three months) of the year. 7150\n",
            "3. Find out if you spent exactly 2000 dollars in any month. False\n",
            "4. June month just finished and your expense is 1980 dollar. Add this item to our monthly expense list.\n",
            "5. You returned an item that you bought in a month of April and\n",
            "got a refund of 200$. Make a correction to your monthly expense list\n",
            "based on this\n",
            "[2200, 2350, 2600, 1930, 2190, 1980]\n"
          ]
        }
      ],
      "source": [
        "## Exercise No. 1\n",
        "expenses = [2200, 2350, 2600, 2130, 2190]\n",
        "print(\"1. In Feb, how many dollars you spent extra compare to January?\", expenses[1] - expenses[0]);\n",
        "print(\"2. Find out your total expense in first quarter (first three months) of the year.\", expenses[0] + expenses[1] + expenses[2]);\n",
        "print(\"3. Find out if you spent exactly 2000 dollars in any month.\", 2000 in expenses);\n",
        "print(\"4. June month just finished and your expense is 1980 dollar. Add this item to our monthly expense list.\")\n",
        "expenses.append(1980)\n",
        "print('''5. You returned an item that you bought in a month of April and\n",
        "got a refund of 200$. Make a correction to your monthly expense list\n",
        "based on this''');\n",
        "expenses[3] -= 200\n",
        "\n",
        "print(expenses)"
      ]
    },
    {
      "cell_type": "code",
      "source": [
        "## Exercise No. 2\n",
        "heros=['spider man','thor','hulk','iron man','captain america']\n",
        "\n",
        "print(\"1. Length of the list\", len(heros))\n",
        "\n",
        "print(\"2. Add 'black panther' at the end of this list\")\n",
        "heros.append(\"black panther\")\n",
        "\n",
        "print('''3. You realize that you need to add 'black panther' after 'hulk',\n",
        "   so remove it from the list first and then add it after 'hulk\\'''')\n",
        "heros.remove('hulk')\n",
        "heros.insert(4, 'hulk')\n",
        "\n",
        "print('''4. Now you don't like thor and hulk because they get angry easily :)\n",
        "   So you want to remove thor and hulk from list and replace them with doctor strange (because he is cool).\n",
        "   Do that with one line of code.''')\n",
        "heros = [hero for hero in heros if hero not in ['hulk', 'thor']] + ['doctor strange']\n",
        "\n",
        "print('5. Sort the heros list in alphabetical order (Hint. Use dir() functions to list down all functions available in list)')\n",
        "heros.sort(key=str.lower)\n",
        "print(heros)"
      ],
      "metadata": {
        "id": "Q12vHPYGZM6h",
        "colab": {
          "base_uri": "https://localhost:8080/"
        },
        "outputId": "6d1f6c5c-6072-43a1-a74d-97a906e6d214"
      },
      "execution_count": null,
      "outputs": [
        {
          "output_type": "stream",
          "name": "stdout",
          "text": [
            "1. Length of the list 5\n",
            "2. Add 'black panther' at the end of this list\n",
            "3. You realize that you need to add 'black panther' after 'hulk',\n",
            "   so remove it from the list first and then add it after 'hulk'\n",
            "4. Now you don't like thor and hulk because they get angry easily :)\n",
            "   So you want to remove thor and hulk from list and replace them with doctor strange (because he is cool).\n",
            "   Do that with one line of code.\n",
            "5. Sort the heros list in alphabetical order (Hint. Use dir() functions to list down all functions available in list)\n",
            "['black panther', 'captain america', 'doctor strange', 'iron man', 'spider man']\n"
          ]
        }
      ]
    },
    {
      "cell_type": "code",
      "source": [
        "## Exercise 3:\n",
        "num = int(input(\"Enter a max number: \"));\n",
        "odd_number_list = [];\n",
        "starting_number = 1;\n",
        "while (num >= starting_number):\n",
        "  odd_number_list.append(starting_number)\n",
        "  starting_number += 2;\n",
        "print(odd_number_list)"
      ],
      "metadata": {
        "colab": {
          "base_uri": "https://localhost:8080/"
        },
        "id": "U0IJ5V5WZOCI",
        "outputId": "36cac61a-a79e-4a9f-be3b-1beb1f563fe9"
      },
      "execution_count": null,
      "outputs": [
        {
          "output_type": "stream",
          "name": "stdout",
          "text": [
            "Enter a max number: 35\n",
            "[1, 3, 5, 7, 9, 11, 13, 15, 17, 19, 21, 23, 25, 27, 29, 31, 33, 35]\n"
          ]
        }
      ]
    }
  ]
}
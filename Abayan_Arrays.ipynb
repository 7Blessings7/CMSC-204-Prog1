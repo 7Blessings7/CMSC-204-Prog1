{
  "nbformat": 4,
  "nbformat_minor": 0,
  "metadata": {
    "colab": {
      "provenance": [],
      "include_colab_link": true
    },
    "kernelspec": {
      "name": "python3",
      "display_name": "Python 3"
    },
    "language_info": {
      "name": "python"
    }
  },
  "cells": [
    {
      "cell_type": "markdown",
      "metadata": {
        "id": "view-in-github",
        "colab_type": "text"
      },
      "source": [
        "<a href=\"https://colab.research.google.com/github/7Blessings7/CMSC-204-Prog1/blob/main/Abayan_Arrays.ipynb\" target=\"_parent\"><img src=\"https://colab.research.google.com/assets/colab-badge.svg\" alt=\"Open In Colab\"/></a>"
      ]
    },
    {
      "cell_type": "code",
      "execution_count": null,
      "metadata": {
        "colab": {
          "base_uri": "https://localhost:8080/"
        },
        "id": "VS_YwK7JyhZl",
        "outputId": "15533995-d477-4531-b8d4-56c5b994255e"
      },
      "outputs": [
        {
          "output_type": "stream",
          "name": "stdout",
          "text": [
            "The excess expenditure in February compared to January is: 150\n",
            "Total expense in the first quarter is:  7150\n",
            "Did I spent 2000 dollars exactly?: False\n",
            "New list is [2200, 2350, 2600, 2130, 2190, 1980]\n",
            "The updated monthly expenses is: [2200, 2350, 2600, 1930, 2190, 1980]\n"
          ]
        }
      ],
      "source": [
        "# Problem 1. \n",
        "#create a list for the monthly expenses named monthly_expenses\n",
        "monthly_expenses = [2200,2350,2600,2130,2190]\n",
        "# 1. In Feb, how many dollars you spent extra compare compare to January\n",
        "Excess = monthly_expenses[1]-monthly_expenses[0]\n",
        "print(\"The excess expenditure in February compared to January is:\", Excess)\n",
        "\n",
        "# 2. Find out your total expense in first quarter (first three months) of the year\n",
        "Total_expense_first_quarter = sum(monthly_expenses[:3])\n",
        "print(\"Total expense in the first quarter is: \", Total_expense_first_quarter)\n",
        "\n",
        "# 3. Find out if you spent exactly 2000 dollars in any month\n",
        "Is_2000_dollars = monthly_expenses == 2000\n",
        "print(\"Did I spent 2000 dollars exactly?:\", Is_2000_dollars)\n",
        "\n",
        "#4. June month just finished and your expenses is 1980. Add this item to our monthly expense list\n",
        "monthly_expenses.append(1980)\n",
        "print(\"New list is\", monthly_expenses)\n",
        "\n",
        "#5. You returned an item that you bought in a month of April and got a refund of 200$. Make a correction to your monthly expense list based on this\n",
        "monthly_expenses[3] = monthly_expenses[3] - 200\n",
        "print(\"The updated monthly expenses is:\", monthly_expenses)"
      ]
    },
    {
      "cell_type": "code",
      "source": [
        "#Problem 2: \n",
        "#You have a list of your favourite marvel super heroes.\n",
        "heroes=['spider man','thor','hulk','iron man','captain america']\n",
        "\n",
        "#1. Length of the list\n",
        "print(\"The length of the list is:\",len(heroes))\n",
        "\n",
        "#2. Add 'black panther' at the end of this list\n",
        "heroes.append(\"black panther\")\n",
        "print(\"The new list is:\",heroes)\n",
        "\n",
        "#3. You realize that you need to add 'black panther' after 'hulk', so remove it from the list first and then add it after 'hulk'\n",
        "#Remove black panther\n",
        "heroes.remove(\"black panther\")\n",
        "#Insert black panther after \"hulk\"\n",
        "heroes.insert(3,\"black panther\")\n",
        "print(\"The updated list is now:\",heroes)\n",
        "\n",
        "#4. Now you don't like thor and hulk because they get angry easily :) . So you want to remove thor and hulk from list and replace them with doctor strange (because he is cool). Do that with one line of code.\n",
        "heroes[1:3] = [\"doctor strange\"]\n",
        "print(\"List including doctor strange but not thor and hulk: \",heroes)\n",
        "\n",
        "#5. Sort the heros list in alphabetical order\n",
        "heroes.sort()\n",
        "print(\"The sorted heroes are:\", heroes)"
      ],
      "metadata": {
        "colab": {
          "base_uri": "https://localhost:8080/"
        },
        "id": "HnSm7r4Zz9vZ",
        "outputId": "60a82718-2faa-40ef-df1e-7ad44d103807"
      },
      "execution_count": null,
      "outputs": [
        {
          "output_type": "stream",
          "name": "stdout",
          "text": [
            "The length of the list is: 5\n",
            "The new list is: ['spider man', 'thor', 'hulk', 'iron man', 'captain america', 'black panther']\n",
            "The updated list is now: ['spider man', 'thor', 'hulk', 'black panther', 'iron man', 'captain america']\n",
            "List including doctor strange but not thor and hulk:  ['spider man', 'doctor strange', 'black panther', 'iron man', 'captain america']\n",
            "The sorted heroes are: ['black panther', 'captain america', 'doctor strange', 'iron man', 'spider man']\n"
          ]
        }
      ]
    },
    {
      "cell_type": "code",
      "source": [
        "#Problem 3\n",
        "max_number = int(input(\"Please enter a number above 1: \"))\n",
        "gen=[]\n",
        "for i in range(max_number+1):\n",
        "  if i%2 != 0:\n",
        "    gen.append(i)\n",
        "\n",
        "print(gen)\n",
        "\n"
      ],
      "metadata": {
        "colab": {
          "base_uri": "https://localhost:8080/"
        },
        "id": "Ba88gyxGFeUX",
        "outputId": "ef9ada39-24e5-4c0f-b828-75819e4a05c7"
      },
      "execution_count": null,
      "outputs": [
        {
          "output_type": "stream",
          "name": "stdout",
          "text": [
            "Please enter a number above 1: 20\n",
            "[1, 3, 5, 7, 9, 11, 13, 15, 17, 19]\n"
          ]
        }
      ]
    },
    {
      "cell_type": "code",
      "source": [],
      "metadata": {
        "id": "sOKQ7OtFOOQD"
      },
      "execution_count": null,
      "outputs": []
    }
  ]
}
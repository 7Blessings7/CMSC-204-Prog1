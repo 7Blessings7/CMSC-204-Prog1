{
  "nbformat": 4,
  "nbformat_minor": 0,
  "metadata": {
    "colab": {
      "provenance": [],
      "include_colab_link": true
    },
    "kernelspec": {
      "name": "python3",
      "display_name": "Python 3"
    },
    "language_info": {
      "name": "python"
    }
  },
  "cells": [
    {
      "cell_type": "markdown",
      "metadata": {
        "id": "view-in-github",
        "colab_type": "text"
      },
      "source": [
        "<a href=\"https://colab.research.google.com/github/7Blessings7/CMSC-204-Prog1/blob/main/Yao_Arrays.ipynb\" target=\"_parent\"><img src=\"https://colab.research.google.com/assets/colab-badge.svg\" alt=\"Open In Colab\"/></a>"
      ]
    },
    {
      "cell_type": "markdown",
      "source": [
        "Now, you try it!\n",
        "1. Procedure to reverse elements of an array\n",
        "2. Procedure for merging two sorted arrays into one\n",
        "3. Formulate an algo for inserting a new element x into a sorted array A of size n\n",
        "4. Procedure for finding the minimum in an array and deleting it from the array"
      ],
      "metadata": {
        "id": "FJCwo6lpijl7"
      }
    },
    {
      "cell_type": "code",
      "source": [
        "# Reverse elements of array\n",
        "\n",
        "def reverse_elements(arr):\n",
        "  '''\n",
        "  Reverses the order of elements of an array\n",
        "  '''\n",
        "  reversed_array = []\n",
        "  n = len(arr)-1\n",
        "\n",
        "  for i in range(n, -1, -1):\n",
        "    color_reversed = arr[i]\n",
        "    reversed_array.append(color_reversed)\n",
        "  return reversed_array\n",
        "\n",
        "print(reverse_elements(['red', 'orange', 'yellow', 'green', 'blue', 'indigo', 'violet'])) # using print so both color and fruit examples print out\n",
        "print(reverse_elements(['apple', 'banana', 'cherry', 'durian']))"
      ],
      "metadata": {
        "colab": {
          "base_uri": "https://localhost:8080/"
        },
        "id": "rR9yEJ4NjImX",
        "outputId": "460b3463-3073-47cf-9ea4-6a4ab0ad8d83"
      },
      "execution_count": null,
      "outputs": [
        {
          "output_type": "stream",
          "name": "stdout",
          "text": [
            "['violet', 'indigo', 'blue', 'green', 'yellow', 'orange', 'red']\n",
            "['durian', 'cherry', 'banana', 'apple']\n"
          ]
        }
      ]
    },
    {
      "cell_type": "code",
      "source": [
        "# Merge two sorted arrays\n",
        "\n",
        "# Without creating new array\n",
        "arr1 = [1, 3, 5, 7, 9]\n",
        "arr2 = [2, 4, 6, 8, 10]\n",
        "\n",
        "for num in arr2:\n",
        "  arr1.append(num)\n",
        "\n",
        "arr1.sort()\n",
        "print(arr1)\n",
        "\n",
        "# Creating new array\n",
        "arr_a = [1, 3, 5, 7, 9]\n",
        "arr_b = [2, 4, 6, 8, 10]\n",
        "new_arr = []\n",
        "\n",
        "for i in arr_a:\n",
        "  new_arr.append(i)\n",
        "\n",
        "for i in arr_b:\n",
        "  new_arr.append(i)\n",
        "\n",
        "new_arr.sort()\n",
        "print(new_arr)\n",
        "\n",
        "# Without using sort function\n",
        "arr_c = [1, 3, 5, 7, 9]\n",
        "arr_d = [2, 4, 6, 8, 10]\n",
        "new_arr2 = []\n",
        "\n",
        "for i in arr_c:\n",
        "  new_arr2.append(i)\n",
        "\n",
        "for i in arr_d:\n",
        "  new_arr2.append(i)\n",
        "\n",
        "\n"
      ],
      "metadata": {
        "colab": {
          "base_uri": "https://localhost:8080/"
        },
        "id": "cUe6_N0BsE1S",
        "outputId": "1b0bd6a2-ec08-425f-d45b-8973c814b097"
      },
      "execution_count": null,
      "outputs": [
        {
          "output_type": "stream",
          "name": "stdout",
          "text": [
            "[1, 2, 3, 4, 5, 6, 7, 8, 9, 10]\n",
            "[1, 2, 3, 4, 5, 6, 7, 8, 9, 10]\n"
          ]
        }
      ]
    },
    {
      "cell_type": "code",
      "source": [
        "# Add elem x into array A with size n\n",
        "arr = [2, 7, 9, 17, 24, 29, 33, 45, 51]\n",
        "\n",
        "def insert_x(x):\n",
        "  arr.append(x)\n",
        "  arr.sort()\n",
        "  return arr\n",
        "\n",
        "insert_x(19)"
      ],
      "metadata": {
        "colab": {
          "base_uri": "https://localhost:8080/"
        },
        "id": "TpvuPl8es2V-",
        "outputId": "f15d49c6-0b26-4616-f39c-54c7bf66b9d3"
      },
      "execution_count": null,
      "outputs": [
        {
          "output_type": "execute_result",
          "data": {
            "text/plain": [
              "[2, 7, 9, 17, 19, 24, 29, 33, 45, 51]"
            ]
          },
          "metadata": {},
          "execution_count": 15
        }
      ]
    },
    {
      "cell_type": "code",
      "source": [
        "# Delete min in array\n",
        "arr = [23, 72, 100, 17, 33, 51, 45]\n",
        "\n",
        "current = 0\n",
        "min = arr[0]\n",
        "\n",
        "for num in arr:\n",
        "  current = num\n",
        "  if current < min:\n",
        "    min = current\n",
        "\n",
        "arr.remove(min)\n",
        "print(arr)"
      ],
      "metadata": {
        "colab": {
          "base_uri": "https://localhost:8080/"
        },
        "id": "wD-MXISLwmqK",
        "outputId": "2ac86c4f-97ec-435c-d5d5-fd755e997c48"
      },
      "execution_count": null,
      "outputs": [
        {
          "output_type": "stream",
          "name": "stdout",
          "text": [
            "[23, 72, 100, 33, 51, 45]\n"
          ]
        }
      ]
    },
    {
      "cell_type": "markdown",
      "source": [
        "Codebasics Arrays Exercise\n",
        "3. Create list of all odd numbers between 1 and a max number(from user input)"
      ],
      "metadata": {
        "id": "pHQmnvVGiAVs"
      }
    },
    {
      "cell_type": "code",
      "source": [
        "# List of odd numbers from 1 to max(from user)\n",
        "\n",
        "max_num = int(input('Please enter a number: '))\n",
        "\n",
        "odd_array = []\n",
        "\n",
        "for num in range(1, max_num + 1):\n",
        "  if num % 2 != 0:\n",
        "    odd_array.append(num)\n",
        "\n",
        "print(odd_array)"
      ],
      "metadata": {
        "colab": {
          "base_uri": "https://localhost:8080/"
        },
        "id": "xKNTOdaciOtO",
        "outputId": "293f3e07-0771-45cb-ca0a-ba41ea7b8148"
      },
      "execution_count": null,
      "outputs": [
        {
          "output_type": "stream",
          "name": "stdout",
          "text": [
            "Please enter a number: 25\n",
            "[1, 3, 5, 7, 9, 11, 13, 15, 17, 19, 21, 23, 25]\n"
          ]
        }
      ]
    }
  ]
}
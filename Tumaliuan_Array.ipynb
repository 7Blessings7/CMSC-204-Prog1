{
  "nbformat": 4,
  "nbformat_minor": 0,
  "metadata": {
    "colab": {
      "provenance": [],
      "include_colab_link": true
    },
    "kernelspec": {
      "name": "python3",
      "display_name": "Python 3"
    },
    "language_info": {
      "name": "python"
    }
  },
  "cells": [
    {
      "cell_type": "markdown",
      "metadata": {
        "id": "view-in-github",
        "colab_type": "text"
      },
      "source": [
        "<a href=\"https://colab.research.google.com/github/7Blessings7/CMSC-204-Prog1/blob/main/Tumaliuan_Array.ipynb\" target=\"_parent\"><img src=\"https://colab.research.google.com/assets/colab-badge.svg\" alt=\"Open In Colab\"/></a>"
      ]
    },
    {
      "cell_type": "code",
      "source": [
        "my_numbers = [1, 6, 5, 9, 25, 17, 16]\n",
        "print(my_numbers)\n",
        "\n",
        "\n",
        "#reverse the list\n",
        "numbers = []\n",
        "for i in my_numbers:\n",
        "  numbers.insert(0,i)\n",
        "print(numbers)\n",
        "\n",
        "#insert an element, insert #10 to a sorted list\n",
        "def insert (my_numbers, n):\n",
        "  my_numbers.append(n)\n",
        "  #sort list\n",
        "  sort_num = sorted(my_numbers)\n",
        "  return (sort_num)\n",
        "\n",
        "n = 10\n",
        "print(insert(my_numbers,n))"
      ],
      "metadata": {
        "colab": {
          "base_uri": "https://localhost:8080/"
        },
        "id": "6t_styYuFI1b",
        "outputId": "49e149bf-d07a-4b02-a601-96b07b0b71c1"
      },
      "execution_count": null,
      "outputs": [
        {
          "output_type": "stream",
          "name": "stdout",
          "text": [
            "[1, 6, 5, 9, 25, 17, 16]\n",
            "[16, 17, 25, 9, 5, 6, 1]\n",
            "[1, 5, 6, 9, 10, 16, 17, 25]\n"
          ]
        }
      ]
    },
    {
      "cell_type": "code",
      "source": [
        "#Merge two sorted array into one\n",
        "\n",
        "sample_list1 = [45, 2, 6, 9, 12]\n",
        "sample_list2 = [79, 4, 5, 33, 1]\n",
        "\n",
        "# #combine two sorted list\n",
        "# size_list1 = len(sample_list1)\n",
        "# size_list2 = len(sample_list2)\n",
        "\n",
        "# sort_arr = []\n",
        "# i,j = 0, 0\n",
        "\n",
        "# while i < size_list1 and j < size_list2:\n",
        "#   if sample_list1[i] < sample_list2[j]:\n",
        "#     sort_arr.append(sample_list1[i])\n",
        "#     #i =+ 1\n",
        "\n",
        "#   else:\n",
        "#     sort_arr.append(sample_list2[j])\n",
        "#     j += 1\n",
        "\n",
        "#   sort_arr = sort_arr + sample_list1[i:] + sample_list2[j:]\n",
        "\n",
        "#   print(\"Sorted list: \" + str(sort_arr))\n",
        "\n",
        "\n",
        "#sort both arrays\n",
        "sample_list1.sort()\n",
        "sample_list2.sort()\n",
        "\n",
        "print(sample_list1)\n",
        "print(sample_list2)\n",
        "\n",
        "# #merge arrays\n",
        "\n",
        "mer_arr = sample_list1 + sample_list2\n",
        "print(\"The merged list : \" + str(mer_arr))\n",
        "\n",
        "\n"
      ],
      "metadata": {
        "colab": {
          "base_uri": "https://localhost:8080/"
        },
        "id": "f4MsWTxYz_lH",
        "outputId": "64523098-430f-4c12-eac2-2b8095c7e19c"
      },
      "execution_count": null,
      "outputs": [
        {
          "output_type": "stream",
          "name": "stdout",
          "text": [
            "[2, 6, 9, 12, 45]\n",
            "[1, 4, 5, 33, 79]\n",
            "The merged list : [2, 6, 9, 12, 45, 1, 4, 5, 33, 79]\n"
          ]
        }
      ]
    },
    {
      "cell_type": "code",
      "source": [
        "#Find the minimum number in the array list and delete from the array\n",
        "\n",
        "#initialize array\n",
        "sample_list = [45, 2, 6, 9, 12]\n",
        "\n",
        "min_num = sample_list[0];\n",
        "\n",
        "for i in sample_list:\n",
        "  if i < min_num:\n",
        "    min_num = i\n",
        "\n",
        "print(\"The smallest number is: \" + str(min_num))\n",
        "\n",
        "sample_list.remove(min_num)\n",
        "print(\"The new set is: \" + str(sample_list))\n",
        "\n",
        "\n"
      ],
      "metadata": {
        "colab": {
          "base_uri": "https://localhost:8080/"
        },
        "id": "4nSeE5nLGovv",
        "outputId": "3340aeeb-c4cf-4904-c6f3-10a922b275b4"
      },
      "execution_count": null,
      "outputs": [
        {
          "output_type": "stream",
          "name": "stdout",
          "text": [
            "The smallest number is: 2\n",
            "The new set is: [45, 6, 9, 12]\n"
          ]
        }
      ]
    },
    {
      "cell_type": "code",
      "source": [
        "sample_list1 = [45, 2, 6, 9, 12]\n",
        "sample_list2 = [79, 4, 5, 33, 1]\n",
        "# combine two sorted list\n",
        "size_list1 = len(sample_list1)\n",
        "size_list2 = len(sample_list2)\n",
        "sort_arr = []\n",
        "i,j = 0, 0\n",
        "\n",
        "while i < size_list1 and j < size_list2:\n",
        "  if sample_list1[i] < sample_list2[j]:\n",
        "    sort_arr.append(sample_list1[i])\n",
        "    i += 1\n",
        "\n",
        "else:\n",
        "  sort_arr.append(sample_list2[j])\n",
        "  j += 1\n",
        "\n",
        "sort_arr = sort_arr + sample_list1[i:] + sample_list2[j:]\n",
        "print(\"Merged list: \" + str(sort_arr))"
      ],
      "metadata": {
        "colab": {
          "base_uri": "https://localhost:8080/"
        },
        "id": "7azsVmR1k9EV",
        "outputId": "7ac955fb-ab77-4801-a860-e1189acea2bd"
      },
      "execution_count": null,
      "outputs": [
        {
          "output_type": "stream",
          "name": "stdout",
          "text": [
            "Merged list: [45, 2, 6, 9, 12, 79, 4, 5, 33, 1]\n"
          ]
        }
      ]
    }
  ]
}
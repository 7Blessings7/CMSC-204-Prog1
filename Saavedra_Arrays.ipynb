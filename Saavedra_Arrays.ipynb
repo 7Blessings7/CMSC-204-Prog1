{
  "nbformat": 4,
  "nbformat_minor": 0,
  "metadata": {
    "colab": {
      "provenance": [],
      "include_colab_link": true
    },
    "kernelspec": {
      "name": "python3",
      "display_name": "Python 3"
    },
    "language_info": {
      "name": "python"
    }
  },
  "cells": [
    {
      "cell_type": "markdown",
      "metadata": {
        "id": "view-in-github",
        "colab_type": "text"
      },
      "source": [
        "<a href=\"https://colab.research.google.com/github/7Blessings7/CMSC-204-Prog1/blob/main/Saavedra_Arrays.ipynb\" target=\"_parent\"><img src=\"https://colab.research.google.com/assets/colab-badge.svg\" alt=\"Open In Colab\"/></a>"
      ]
    },
    {
      "cell_type": "markdown",
      "source": [
        "1. Write a procedure for reversing the elements of an array."
      ],
      "metadata": {
        "id": "shacbQjeC_bX"
      }
    },
    {
      "cell_type": "code",
      "execution_count": null,
      "metadata": {
        "colab": {
          "base_uri": "https://localhost:8080/"
        },
        "id": "Qb3ikr8yC4pq",
        "outputId": "02d94bec-35b9-4149-8f68-7114323a5548"
      },
      "outputs": [
        {
          "output_type": "stream",
          "name": "stdout",
          "text": [
            "[1, 2, 3, 4, 5] -> [5, 4, 3, 2, 1]\n",
            "Code executed at, 2023-03-06 18:03:46.700133\n"
          ]
        }
      ],
      "source": [
        "from datetime import datetime \n",
        "\n",
        "def reverse(array):\n",
        "  counter = len(array) - 1\n",
        "  result = []\n",
        "  while counter >= 0:\n",
        "    result.append(array[counter])\n",
        "    counter -= 1\n",
        "  return result\n",
        "\n",
        "test_array = [1,2,3,4,5]\n",
        "\n",
        "print(test_array,'->',reverse(test_array))\n",
        "print('Code executed at,', datetime.now())"
      ]
    },
    {
      "cell_type": "markdown",
      "source": [
        "2. Write a procedure for merging two sorted arrays into one."
      ],
      "metadata": {
        "id": "4ddS-GJ2C9jK"
      }
    },
    {
      "cell_type": "code",
      "source": [
        "from datetime import datetime \n",
        "\n",
        "def merge_and_sort(arr1, arr2):\n",
        "\tarr1_counter = 0\n",
        "\tarr2_counter = 0\n",
        "\tmerged_arr = []\n",
        "\twhile len(merged_arr) != len(arr1) + len(arr2):\n",
        "\t\tif arr1_counter < len(arr1) and arr1[arr1_counter] <= arr2[arr2_counter]:\n",
        "\t\t\tmerged_arr.append(arr1[arr1_counter])\n",
        "\t\t\tarr1_counter += 1\n",
        "\t\telse:\n",
        "\t\t\tmerged_arr.append(arr2[arr2_counter])\n",
        "\t\t\tarr2_counter += 1\n",
        "\treturn merged_arr\n",
        "\n",
        "\n",
        "arr1 = [1,2,3,4,5]\n",
        "arr2 = [6,7,8,9,10]\n",
        "print(arr1,'+',arr2,'->',merge_and_sort(arr1, arr2))\n",
        "\n",
        "arr3 = [1,2,3,4,5]\n",
        "arr4 = [2,3,4,5,6]\n",
        "print(arr3,'+',arr4,'->',merge_and_sort(arr3, arr4))\n",
        "\n",
        "arr6 = [5,6,9,11]\n",
        "arr7 = [1,3,5,20,40]\n",
        "print(arr6,'+',arr7,'->',merge_and_sort(arr6, arr7))\n",
        "\n",
        "print('Code executed at,', datetime.now())"
      ],
      "metadata": {
        "colab": {
          "base_uri": "https://localhost:8080/"
        },
        "id": "lY82kwtSHyN0",
        "outputId": "8509aa78-5c04-4031-ffa3-0d24044be410"
      },
      "execution_count": null,
      "outputs": [
        {
          "output_type": "stream",
          "name": "stdout",
          "text": [
            "[1, 2, 3, 4, 5] + [6, 7, 8, 9, 10] -> [1, 2, 3, 4, 5, 6, 7, 8, 9, 10]\n",
            "[1, 2, 3, 4, 5] + [2, 3, 4, 5, 6] -> [1, 2, 2, 3, 3, 4, 4, 5, 5, 6]\n",
            "[5, 6, 9, 11] + [1, 3, 5, 20, 40] -> [1, 3, 5, 5, 6, 9, 11, 20, 40]\n",
            "Code executed at, 2023-03-06 18:04:57.896190\n"
          ]
        }
      ]
    },
    {
      "cell_type": "markdown",
      "source": [
        "3. Formulate an algorithm for inserting a new element x into a sorted array A of\n",
        "size n."
      ],
      "metadata": {
        "id": "N9DgtDwMH21Q"
      }
    },
    {
      "cell_type": "code",
      "source": [
        "from datetime import datetime\n",
        "\n",
        "def insert_and_sort(arr1, x):\n",
        "  result = []\n",
        "  arr1_counter = 0\n",
        "  if x >= arr1[len(arr1)-1]:\n",
        "    return arr1[0:] + [x]\n",
        "  elif x <= arr1[0]:\n",
        "    return [x] + arr1[0:]\n",
        "  else:\n",
        "    while len(result) != len(arr1) + 1:\n",
        "      if x > arr1[arr1_counter] and arr1_counter < len(arr1):\n",
        "        result.append(arr1[arr1_counter])\n",
        "        arr1_counter += 1\n",
        "      else:\n",
        "        result += [x] + arr1[arr1_counter:]\n",
        "  return result\n",
        "\n",
        "\n",
        "def insert_and_binary_search(arr, num):\n",
        "  if num >= arr[len(arr)-1]:\n",
        "    return arr[0:] + [num]\n",
        "  elif num <= arr[0]:\n",
        "    return [num] + arr[0:]\n",
        "  else:\n",
        "    num_pos = binary_search(arr, num)\n",
        "    return arr[:num_pos] + [num] + arr[num_pos:]\n",
        "\n",
        "\n",
        "def binary_search(arr, num):\n",
        "  low = 0\n",
        "  high = len(arr)-1\n",
        "  while low <= high:\n",
        "    mid = (low+high)//2\n",
        "    if num == arr[mid]:\n",
        "      return mid\n",
        "    elif num > arr[mid]:\n",
        "      low = mid + 1\n",
        "    else:               \n",
        "      high = mid - 1\n",
        "  return mid\n",
        "\n",
        "arr1 = [1,2,3,4,5,9]\n",
        "arr2 = [2,3,4,5,6]\n",
        "arr3 = [1,2,3,4,5]\n",
        "\n",
        "print('Insert using linear search to locate insert position')\n",
        "print(insert_and_sort(arr1, 6))\n",
        "print(insert_and_sort(arr2, 1))\n",
        "print(insert_and_sort(arr3, 6))\n",
        "print('\\n')\n",
        "print('Insert using binary search to locate insert position')\n",
        "print(insert_and_binary_search(arr1, 6))\n",
        "print(insert_and_binary_search(arr2, 1))\n",
        "print(insert_and_binary_search(arr3, 6))\n",
        "\n",
        "print('Code executed at,', datetime.now())"
      ],
      "metadata": {
        "id": "KfMuY1KBH51S",
        "colab": {
          "base_uri": "https://localhost:8080/"
        },
        "outputId": "cbd0271b-fe14-4960-fd0d-eef5b30922d6"
      },
      "execution_count": null,
      "outputs": [
        {
          "output_type": "stream",
          "name": "stdout",
          "text": [
            "Insert using linear search to locate insert position\n",
            "[1, 2, 3, 4, 5, 6, 9]\n",
            "[1, 2, 3, 4, 5, 6]\n",
            "[1, 2, 3, 4, 5, 6]\n",
            "\n",
            "\n",
            "Insert using binary search to locate insert position\n",
            "[1, 2, 3, 4, 5, 6, 9]\n",
            "[1, 2, 3, 4, 5, 6]\n",
            "[1, 2, 3, 4, 5, 6]\n",
            "Code executed at, 2023-03-06 18:14:46.966795\n"
          ]
        }
      ]
    },
    {
      "cell_type": "markdown",
      "source": [
        "4. Write a procedure for finding the minimum in an array and deleting it from the array."
      ],
      "metadata": {
        "id": "Zf96DW-RH6sX"
      }
    },
    {
      "cell_type": "code",
      "source": [
        "from datetime import datetime\n",
        "\n",
        "def find_min(arr):\n",
        "  min = arr[0]\n",
        "  min_index = 0\n",
        "  for index, item in enumerate(arr): \n",
        "    if item <= min:\n",
        "      min = item\n",
        "      min_index = index\n",
        "  return [min, min_index]\n",
        "\n",
        "def delete_element(arr, pos):\n",
        "  return arr[:pos] + arr[pos+1:]\n",
        "  \n",
        "# assumption the minimum in the array will not repeat\n",
        "arr1 = [1,2,3,4,5]\n",
        "print(arr1,'->',delete_element(arr1, find_min(arr1)[1]))\n",
        "\n",
        "arr2 = [2,1,3,4,5]\n",
        "print(arr2,'->',delete_element(arr2, find_min(arr2)[1]))\n",
        "\n",
        "arr3 = [5,4,3,2,1]\n",
        "print(arr3,'->',delete_element(arr3, find_min(arr3)[1]))\n",
        "\n",
        "print('Code executed at,', datetime.now())"
      ],
      "metadata": {
        "id": "V4npyFFZH59W",
        "colab": {
          "base_uri": "https://localhost:8080/"
        },
        "outputId": "0fe5b6dc-dafe-45d9-ab5a-bda3edff7691"
      },
      "execution_count": null,
      "outputs": [
        {
          "output_type": "stream",
          "name": "stdout",
          "text": [
            "[1, 2, 3, 4, 5] -> [2, 3, 4, 5]\n",
            "[2, 1, 3, 4, 5] -> [2, 3, 4, 5]\n",
            "[5, 4, 3, 2, 1] -> [5, 4, 3, 2]\n",
            "Code executed at, 2023-03-06 18:23:43.926453\n"
          ]
        }
      ]
    }
  ]
}
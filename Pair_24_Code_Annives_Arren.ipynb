{
  "nbformat": 4,
  "nbformat_minor": 0,
  "metadata": {
    "colab": {
      "provenance": [],
      "include_colab_link": true
    },
    "kernelspec": {
      "name": "python3",
      "display_name": "Python 3"
    },
    "language_info": {
      "name": "python"
    }
  },
  "cells": [
    {
      "cell_type": "markdown",
      "metadata": {
        "id": "view-in-github",
        "colab_type": "text"
      },
      "source": [
        "<a href=\"https://colab.research.google.com/github/7Blessings7/CMSC-204-Prog1/blob/main/Pair_24_Code_Annives_Arren.ipynb\" target=\"_parent\"><img src=\"https://colab.research.google.com/assets/colab-badge.svg\" alt=\"Open In Colab\"/></a>"
      ]
    },
    {
      "cell_type": "markdown",
      "source": [
        "**CMSC 204 - Final Project / 2nd Semester 2022-2023**\n",
        "\n",
        "**Name:** Arren Crusim Anives\n",
        "\n",
        "**Student number:** 2022-30083"
      ],
      "metadata": {
        "id": "1nG6f6ZNCXif"
      }
    },
    {
      "cell_type": "code",
      "execution_count": null,
      "metadata": {
        "id": "BwbT4gvh0Bza",
        "colab": {
          "base_uri": "https://localhost:8080/"
        },
        "outputId": "3b03030a-ed56-466c-e561-cbaa6ab689ed"
      },
      "outputs": [
        {
          "output_type": "stream",
          "name": "stdout",
          "text": [
            "Enter the starting point (from A to Z): A\n",
            "Your starting point: A\n",
            "Enter the ending point (from A to Z): Z\n",
            "Your ending point: Z\n",
            "The path you should take is: ['A', 'F', 'I', 'H', 'L', 'N', 'S', 'V', 'Z']\n"
          ]
        }
      ],
      "source": [
        "from collections import defaultdict\n",
        "\n",
        "class Graph_FinalProject:\n",
        "    def __init__(self):\n",
        "        #self.edges contains all possible edges so it maps a node to a list of all its neighboring nodes\n",
        "        self.edges = defaultdict(list)\n",
        "        #self.distance contains all the distance between two nodes represented as a tuple\n",
        "        self.distance = {}\n",
        "\n",
        "    #organize_edges will be used to add edges to the graph    \n",
        "    def organize_edges(self, start_node, end_node, meter):\n",
        "        #edges are measured in meters and are bi-directional\n",
        "        #edges is a defaultdict object that maps a node to a list of all its neighboring nodes\n",
        "        self.edges[start_node].append(end_node)\n",
        "        self.edges[end_node].append(start_node)\n",
        "        #distance is a dictionary that maps a tuple of two nodes (representing an edge) to its distance in meters\n",
        "        self.distance[(start_node, end_node)] = meter\n",
        "        self.distance[(end_node, start_node)] = meter\n",
        "\n",
        "graph = Graph_FinalProject()\n",
        "\n",
        "#values of the nodes, edges, and their distance are stored in variable edges\n",
        "edges = [\n",
        "    (\"A\",\"B\",40),\n",
        "    (\"A\",\"F\",100),\n",
        "    (\"B\",\"C\",200),\n",
        "    (\"C\",\"D\",420),\n",
        "    (\"D\",\"E\",80),\n",
        "    (\"F\",\"I\",260),\n",
        "    (\"F\",\"G\",186),\n",
        "    (\"F\",\"J\",228),\n",
        "    (\"F\",\"P\",240),\n",
        "    (\"G\",\"H\",404),\n",
        "    (\"G\",\"J\",190),\n",
        "    (\"H\",\"I\",70),\n",
        "    (\"H\",\"K\",242),\n",
        "    (\"H\",\"L\",164),\n",
        "    (\"I\",\"O\",596),\n",
        "    (\"I\",\"L\",760),\n",
        "    (\"J\",\"K\",224),\n",
        "    (\"J\",\"M\",394),\n",
        "    (\"J\",\"P\",270),\n",
        "    (\"K\",\"L\",194),\n",
        "    (\"L\",\"M\",240),\n",
        "    (\"L\",\"N\",122),\n",
        "    (\"L\",\"O\",476),\n",
        "    (\"M\",\"P\",552),\n",
        "    (\"M\",\"N\",170),\n",
        "    (\"M\",\"R\",226),\n",
        "    (\"N\",\"S\",144),\n",
        "    (\"N\",\"R\",222),\n",
        "    (\"N\",\"O\",226),\n",
        "    (\"O\",\"T\",176),\n",
        "    (\"O\",\"W\",330),\n",
        "    (\"P\",\"U\",172),\n",
        "    (\"P\",\"R\",196),\n",
        "    (\"Q\",\"R\",482),\n",
        "    (\"R\",\"V\",520),\n",
        "    (\"S\",\"T\",270),\n",
        "    (\"S\",\"Y\",392),\n",
        "    (\"S\",\"V\",160),\n",
        "    (\"T\",\"W\",480),\n",
        "    (\"U\",\"X\",526),\n",
        "    (\"V\",\"Y\",166),\n",
        "    (\"V\",\"Z\",530),\n",
        "    (\"V\",\"X\",540),\n",
        "    (\"W\",\"Z\",298),\n",
        "    (\"X\",\"Z\",564),\n",
        "]\n",
        "\n",
        "#using organize_edges, a list of edges is defined and each edge is added to the graph through a for loop\n",
        "for edge in edges:\n",
        "    graph.organize_edges(*edge)\n",
        "\n",
        "#this function returns the shortest path between the starting and ending nodes\n",
        "def find_shortest_path(graph, starting_point, ending_point):\n",
        "    #shortest_paths is a dictionary of nodes with values as a tuple of previous node and distance (meter)\n",
        "    shortest_paths = {starting_point: (None, 0)}\n",
        "    current_node = starting_point\n",
        "    visited = set()\n",
        "    \n",
        "    #while loop runs until the current_node is equal to the ending_point node\n",
        "    while current_node != ending_point:\n",
        "        visited.add(current_node)\n",
        "        #destinations stores the neighboring nodes of the current_node\n",
        "        destinations = graph.edges[current_node]\n",
        "        #meter_to_current_node stores the distance of the path from starting_point node to current_node\n",
        "        meter_to_current_node = shortest_paths[current_node][1]\n",
        "\n",
        "        #for loop iterates over each neighboring node of current_node\n",
        "        for next_node in destinations:\n",
        "            #meter stores distance of the path to node\n",
        "            meter = graph.distance[(current_node, next_node)] + meter_to_current_node\n",
        "            if next_node not in shortest_paths:\n",
        "                shortest_paths[next_node] = (current_node, meter)\n",
        "            else:\n",
        "                current_shortest_meter = shortest_paths[next_node][1]\n",
        "                if current_shortest_meter > meter:\n",
        "                    shortest_paths[next_node] = (current_node, meter)\n",
        "\n",
        "        #next_destinations stores a dictionary of nodes that have not been visited and their shortest_paths distance\n",
        "        next_destinations = {node: shortest_paths[node] for node in shortest_paths if node not in visited}\n",
        "        if not next_destinations:\n",
        "            return \"Invalid input or route not possible\"\n",
        "        #Next node is the destination with the shortest distance in meters\n",
        "        current_node = min(next_destinations, key=lambda k: next_destinations[k][1])\n",
        "    \n",
        "    #go back through destinations in shortest path\n",
        "    path = []\n",
        "    #while loop creates a list path that contains nodes in shortest path in reverse order, starting with ending node and ending with starting node\n",
        "    while current_node is not None:\n",
        "        path.append(current_node)\n",
        "        next_node = shortest_paths[current_node][0]\n",
        "        current_node = next_node\n",
        "    #reverse path\n",
        "    path = path[::-1]\n",
        "    return path\n",
        "\n",
        "#ask for starting point and ending point to display the shortest path\n",
        "def final_project():\n",
        "    starting_point = input(\"Enter the starting point (from A to Z): \")\n",
        "    print(\"Your starting point:\", starting_point)\n",
        "    ending_point = input(\"Enter the ending point (from A to Z): \")\n",
        "    print(\"Your ending point:\", ending_point)\n",
        "    print(\"The path you should take is:\", find_shortest_path(graph, starting_point, ending_point))\n",
        "\n",
        "final_project()"
      ]
    }
  ]
}
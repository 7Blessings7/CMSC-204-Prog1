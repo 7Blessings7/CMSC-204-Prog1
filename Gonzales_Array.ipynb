{
  "nbformat": 4,
  "nbformat_minor": 0,
  "metadata": {
    "colab": {
      "provenance": [],
      "include_colab_link": true
    },
    "kernelspec": {
      "name": "python3",
      "display_name": "Python 3"
    },
    "language_info": {
      "name": "python"
    }
  },
  "cells": [
    {
      "cell_type": "markdown",
      "metadata": {
        "id": "view-in-github",
        "colab_type": "text"
      },
      "source": [
        "<a href=\"https://colab.research.google.com/github/7Blessings7/CMSC-204-Prog1/blob/main/Gonzales_Array.ipynb\" target=\"_parent\"><img src=\"https://colab.research.google.com/assets/colab-badge.svg\" alt=\"Open In Colab\"/></a>"
      ]
    },
    {
      "cell_type": "code",
      "execution_count": null,
      "metadata": {
        "colab": {
          "base_uri": "https://localhost:8080/"
        },
        "id": "S_OsUAtYiZAX",
        "outputId": "12248a5d-8b7f-4908-a559-ef983d9b1445"
      },
      "outputs": [
        {
          "output_type": "stream",
          "name": "stdout",
          "text": [
            "Enter 10 numbers: \n",
            "12\n",
            "2\n",
            "3\n",
            "4\n",
            "5\n",
            "6\n",
            "7\n",
            "8\n",
            "9\n",
            "10\n",
            "Enter the number to search:\n",
            "2\n",
            "\n",
            "Number is found at index number:\n",
            "1\n"
          ]
        }
      ],
      "source": [
        "#linear search\n",
        "\n",
        "print (\"Enter 10 numbers: \")\n",
        "\n",
        "#initalize arr to empty\n",
        "arr = []\n",
        "\n",
        "#use for loop to store 10 numbers in array arr as type integer\n",
        "for i in range(10):\n",
        "  arr.insert(i, int(input()))\n",
        "\n",
        "#store user input as num to search the number in arr\n",
        "print('Enter the number to search:')\n",
        "num = int(input())  \n",
        "\n",
        "#use for loop to search num in arr\n",
        "for i in range (10):\n",
        "  #if num is found in arr store the the value of i to ind as index\n",
        "  if num==arr[i]:\n",
        "     ind = i\n",
        "     break\n",
        "print(\"\\nNumber is found at index number:\")\n",
        "print (ind)"
      ]
    }
  ]
}